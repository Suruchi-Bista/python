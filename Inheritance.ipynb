{
 "cells": [
  {
   "cell_type": "markdown",
   "id": "299de731",
   "metadata": {},
   "source": []
  },
  {
   "cell_type": "code",
   "execution_count": 1,
   "id": "8d8b80e6",
   "metadata": {},
   "outputs": [],
   "source": [
    "class A:\n",
    "    pass\n",
    "class B(A):\n",
    "    pass\n",
    "obj = B()"
   ]
  },
  {
   "cell_type": "code",
   "execution_count": 4,
   "id": "a0a9fa6c",
   "metadata": {},
   "outputs": [
    {
     "name": "stdout",
     "output_type": "stream",
     "text": [
      "enter name = Ram\n",
      "enter add = Kathmandu\n",
      "Hello my name is Ram. I am from Kathmandu\n"
     ]
    }
   ],
   "source": [
    "class A:\n",
    "    def __init__(self):\n",
    "        self.name=input('enter name = ')\n",
    "        self.add=input('enter add = ')\n",
    "class B(A):\n",
    "    def info(self):\n",
    "        print(f'Hello my name is {self.name}. I am from {self.add}')\n",
    "obj=B()\n",
    "obj.info()\n",
    "        "
   ]
  },
  {
   "cell_type": "code",
   "execution_count": 6,
   "id": "18994226",
   "metadata": {},
   "outputs": [
    {
     "name": "stdout",
     "output_type": "stream",
     "text": [
      "enter name = ram\n",
      "enter add = ktm\n",
      "Hello my name is ram. I am from ktm\n"
     ]
    }
   ],
   "source": [
    "class A:\n",
    "    def __init__(self,name,add):\n",
    "        self.name= name\n",
    "        self.add= add\n",
    "class B(A):\n",
    "    def info(self):\n",
    "        print(f'Hello my name is {self.name}. I am from {self.add}')\n",
    "        \n",
    "name=input('enter name = ')\n",
    "add=input('enter add = ')\n",
    "\n",
    "obj=B(name,add)\n",
    "obj.info()\n",
    "        "
   ]
  },
  {
   "cell_type": "code",
   "execution_count": 7,
   "id": "09348f07",
   "metadata": {},
   "outputs": [],
   "source": [
    "# multi-level inheritance\n",
    "class A:\n",
    "    pass\n",
    "class B(A):\n",
    "    pass\n",
    "class C(B):\n",
    "    pass\n",
    "obj = C()\n",
    "\n"
   ]
  },
  {
   "cell_type": "code",
   "execution_count": 8,
   "id": "e86226f0",
   "metadata": {},
   "outputs": [],
   "source": [
    "# multiple inheritance (derived)\n",
    "class A:\n",
    "    pass\n",
    "class B:\n",
    "    pass\n",
    "class C(A,B):\n",
    "    pass\n",
    "obj = C()\n",
    "\n"
   ]
  },
  {
   "cell_type": "code",
   "execution_count": 12,
   "id": "cb93817a",
   "metadata": {},
   "outputs": [
    {
     "name": "stdout",
     "output_type": "stream",
     "text": [
      "I am from Kathmandu\n",
      "I am 34 years old\n",
      "I am Ram\n",
      "Hello my name is Ram. I am from Kathmandu. I am 34 years old\n"
     ]
    }
   ],
   "source": [
    "class A:\n",
    "    def __init__(self,add):\n",
    "        self.add= add\n",
    "    def address(self):\n",
    "        print(f'I am from {self.add}')\n",
    "class B(A):\n",
    "    def __init__(self,age,add):\n",
    "        self.age= age\n",
    "        A.__init__(self,add)\n",
    "    def ages(self):\n",
    "        print(f'I am {self.age} years old')\n",
    "        \n",
    "class C(B):\n",
    "    def __init__(self,name,age,add):\n",
    "        self.name= name\n",
    "        B.__init__(self,age,add) #argument\n",
    "    def names(self):\n",
    "        print(f'I am {self.name}')\n",
    "    def info(self):\n",
    "        print(f'Hello my name is {self.name}. I am from {self.add}. I am {self.age} years old.')\n",
    "        \n",
    "obj = C('Ram',34,'Kathmandu')\n",
    "obj.address()\n",
    "obj.ages()\n",
    "obj.names()\n",
    "obj.info()\n",
    "\n",
    "\n",
    "\n"
   ]
  },
  {
   "cell_type": "code",
   "execution_count": 14,
   "id": "1b92f31d",
   "metadata": {},
   "outputs": [
    {
     "name": "stdout",
     "output_type": "stream",
     "text": [
      "I am from Kathmandu\n",
      "I am 34 years old\n",
      "I am Ram\n",
      "Hello my name is Ram. I am from Kathmandu. I am 34 years old.\n"
     ]
    }
   ],
   "source": [
    "class A:\n",
    "    def __init__(self,add):\n",
    "        self.add= add\n",
    "    def address(self):\n",
    "        print(f'I am from {self.add}')\n",
    "class B:\n",
    "    def __init__(self,age):\n",
    "        self.age= age\n",
    "        \n",
    "    def ages(self):\n",
    "        print(f'I am {self.age} years old')\n",
    "        \n",
    "class C(A,B):\n",
    "    def __init__(self,name,age,add):\n",
    "        self.name= name\n",
    "        B.__init__(self,age)\n",
    "        A.__init__(self,add)\n",
    "        \n",
    "    def names(self):\n",
    "        print(f'I am {self.name}.')\n",
    "    def info(self):\n",
    "        print(f'Hello my name is {self.name}. I am from {self.add}. I am {self.age} years old.')\n",
    "        \n",
    "obj = C('Ram',34,'Kathmandu')\n",
    "obj.address()#function call through object\n",
    "obj.ages()\n",
    "obj.names()\n",
    "obj.info()\n",
    "\n"
   ]
  },
  {
   "cell_type": "code",
   "execution_count": 24,
   "id": "412f2d0f",
   "metadata": {},
   "outputs": [
    {
     "name": "stdout",
     "output_type": "stream",
     "text": [
      "I am from kathmandu. I am 43 yeras old.\n"
     ]
    }
   ],
   "source": [
    "class A:\n",
    "    def __init__(self):\n",
    "        self.add='kathmandu'\n",
    "    #def a(self):\n",
    "     #   pass\n",
    "class B:\n",
    "    def __init__(self):\n",
    "        self.age=43\n",
    "    #def b(self):\n",
    "     #   pass\n",
    "class C(A,B):\n",
    "    def __init__(self):\n",
    "        A.__init__(self)\n",
    "        B.__init__(self)\n",
    "    def info(self):\n",
    "        print(f'I am from {self.add}. I am {self.age} yeras old.')\n",
    "obj = C()\n",
    "obj.info()"
   ]
  },
  {
   "cell_type": "code",
   "execution_count": 4,
   "id": "f5764d15",
   "metadata": {},
   "outputs": [
    {
     "name": "stdout",
     "output_type": "stream",
     "text": [
      "ram\n",
      "43\n",
      "kathmandu\n"
     ]
    }
   ],
   "source": [
    "# public members\n",
    "class Info:\n",
    "    def __init__(self,name,age,add):\n",
    "        self.name=name\n",
    "        self.age=age\n",
    "        self.add=add\n",
    "obj=Info('ram',43,'kathmandu')\n",
    "print(obj.name)\n",
    "print(obj.age)\n",
    "print(obj.add)"
   ]
  },
  {
   "cell_type": "code",
   "execution_count": 5,
   "id": "4559d7db",
   "metadata": {
    "scrolled": true
   },
   "outputs": [
    {
     "ename": "AttributeError",
     "evalue": "'Info' object has no attribute 'name'",
     "output_type": "error",
     "traceback": [
      "\u001b[1;31m---------------------------------------------------------------------------\u001b[0m",
      "\u001b[1;31mAttributeError\u001b[0m                            Traceback (most recent call last)",
      "\u001b[1;32m~\\AppData\\Local\\Temp/ipykernel_2556/3456858917.py\u001b[0m in \u001b[0;36m<module>\u001b[1;34m\u001b[0m\n\u001b[0;32m      6\u001b[0m         \u001b[0mself\u001b[0m\u001b[1;33m.\u001b[0m\u001b[0m_add\u001b[0m\u001b[1;33m=\u001b[0m\u001b[0madd\u001b[0m\u001b[1;33m\u001b[0m\u001b[1;33m\u001b[0m\u001b[0m\n\u001b[0;32m      7\u001b[0m \u001b[0mobj\u001b[0m\u001b[1;33m=\u001b[0m\u001b[0mInfo\u001b[0m\u001b[1;33m(\u001b[0m\u001b[1;34m'ram'\u001b[0m\u001b[1;33m,\u001b[0m\u001b[1;36m43\u001b[0m\u001b[1;33m,\u001b[0m\u001b[1;34m'kathmandu'\u001b[0m\u001b[1;33m)\u001b[0m\u001b[1;33m\u001b[0m\u001b[1;33m\u001b[0m\u001b[0m\n\u001b[1;32m----> 8\u001b[1;33m \u001b[0mprint\u001b[0m\u001b[1;33m(\u001b[0m\u001b[0mobj\u001b[0m\u001b[1;33m.\u001b[0m\u001b[0mname\u001b[0m\u001b[1;33m)\u001b[0m\u001b[1;33m\u001b[0m\u001b[1;33m\u001b[0m\u001b[0m\n\u001b[0m\u001b[0;32m      9\u001b[0m \u001b[0mprint\u001b[0m\u001b[1;33m(\u001b[0m\u001b[0mobj\u001b[0m\u001b[1;33m.\u001b[0m\u001b[0mage\u001b[0m\u001b[1;33m)\u001b[0m\u001b[1;33m\u001b[0m\u001b[1;33m\u001b[0m\u001b[0m\n\u001b[0;32m     10\u001b[0m \u001b[0mprint\u001b[0m\u001b[1;33m(\u001b[0m\u001b[0mobj\u001b[0m\u001b[1;33m.\u001b[0m\u001b[0madd\u001b[0m\u001b[1;33m)\u001b[0m\u001b[1;33m\u001b[0m\u001b[1;33m\u001b[0m\u001b[0m\n",
      "\u001b[1;31mAttributeError\u001b[0m: 'Info' object has no attribute 'name'"
     ]
    }
   ],
   "source": [
    "# protected members\n",
    "class Info:\n",
    "    def __init__(self,name,age,add):\n",
    "        self._name=name# ._means protected\n",
    "        self._age=age\n",
    "        self._add=add\n",
    "obj=Info('ram',43,'kathmandu')\n",
    "print(obj.name)# protected data class bhanda bahira use garna use underscore print garne bela \n",
    "print(obj.age)\n",
    "print(obj.add)"
   ]
  },
  {
   "cell_type": "code",
   "execution_count": 6,
   "id": "367a9b1a",
   "metadata": {},
   "outputs": [
    {
     "name": "stdout",
     "output_type": "stream",
     "text": [
      "ram\n",
      "43\n",
      "kathmandu\n"
     ]
    }
   ],
   "source": [
    "class Info:\n",
    "    def __init__(self,name,age,add):\n",
    "        self._name=name\n",
    "        self._age=age\n",
    "        self._add=add\n",
    "obj=Info('ram',43,'kathmandu')\n",
    "print(obj._name)\n",
    "print(obj._age)\n",
    "print(obj._add)"
   ]
  },
  {
   "cell_type": "code",
   "execution_count": 7,
   "id": "14d5ece7",
   "metadata": {},
   "outputs": [
    {
     "ename": "AttributeError",
     "evalue": "'Info' object has no attribute '__name'",
     "output_type": "error",
     "traceback": [
      "\u001b[1;31m---------------------------------------------------------------------------\u001b[0m",
      "\u001b[1;31mAttributeError\u001b[0m                            Traceback (most recent call last)",
      "\u001b[1;32m~\\AppData\\Local\\Temp/ipykernel_2556/1349088006.py\u001b[0m in \u001b[0;36m<module>\u001b[1;34m\u001b[0m\n\u001b[0;32m      5\u001b[0m         \u001b[0mself\u001b[0m\u001b[1;33m.\u001b[0m\u001b[0m__add\u001b[0m\u001b[1;33m=\u001b[0m\u001b[0madd\u001b[0m\u001b[1;33m\u001b[0m\u001b[1;33m\u001b[0m\u001b[0m\n\u001b[0;32m      6\u001b[0m \u001b[0mobj\u001b[0m\u001b[1;33m=\u001b[0m\u001b[0mInfo\u001b[0m\u001b[1;33m(\u001b[0m\u001b[1;34m'ram'\u001b[0m\u001b[1;33m,\u001b[0m\u001b[1;36m43\u001b[0m\u001b[1;33m,\u001b[0m\u001b[1;34m'kathmandu'\u001b[0m\u001b[1;33m)\u001b[0m\u001b[1;33m\u001b[0m\u001b[1;33m\u001b[0m\u001b[0m\n\u001b[1;32m----> 7\u001b[1;33m \u001b[0mprint\u001b[0m\u001b[1;33m(\u001b[0m\u001b[0mobj\u001b[0m\u001b[1;33m.\u001b[0m\u001b[0m__name\u001b[0m\u001b[1;33m)\u001b[0m\u001b[1;33m\u001b[0m\u001b[1;33m\u001b[0m\u001b[0m\n\u001b[0m\u001b[0;32m      8\u001b[0m \u001b[0mprint\u001b[0m\u001b[1;33m(\u001b[0m\u001b[0mobj\u001b[0m\u001b[1;33m.\u001b[0m\u001b[0m__age\u001b[0m\u001b[1;33m)\u001b[0m\u001b[1;33m\u001b[0m\u001b[1;33m\u001b[0m\u001b[0m\n\u001b[0;32m      9\u001b[0m \u001b[0mprint\u001b[0m\u001b[1;33m(\u001b[0m\u001b[0mobj\u001b[0m\u001b[1;33m.\u001b[0m\u001b[0m__add\u001b[0m\u001b[1;33m)\u001b[0m\u001b[1;33m\u001b[0m\u001b[1;33m\u001b[0m\u001b[0m\n",
      "\u001b[1;31mAttributeError\u001b[0m: 'Info' object has no attribute '__name'"
     ]
    }
   ],
   "source": [
    "# private members\n",
    "class Info:\n",
    "    def __init__(self,name,age,add):\n",
    "        self.__name=name\n",
    "        self.__age=age\n",
    "        self.__add=add\n",
    "obj=Info('ram',43,'kathmandu')\n",
    "print(obj.__name)\n",
    "print(obj.__age)\n",
    "print(obj.__add)# cant be accessed out of class"
   ]
  },
  {
   "cell_type": "code",
   "execution_count": 8,
   "id": "f6dcaf4c",
   "metadata": {},
   "outputs": [
    {
     "name": "stdout",
     "output_type": "stream",
     "text": [
      "ram\n",
      "43\n",
      "kathmandu\n"
     ]
    }
   ],
   "source": [
    "# to access private members outside of the class\n",
    "class Info:\n",
    "    def __init__(self,name,age,add):\n",
    "        self.__name=name\n",
    "        self.__age=age\n",
    "        self.__add=add\n",
    "obj=Info('ram',43,'kathmandu')\n",
    "print(obj._Info__name)\n",
    "print(obj._Info__age)\n",
    "print(obj._Info__add)"
   ]
  },
  {
   "cell_type": "code",
   "execution_count": 13,
   "id": "8c7638e1",
   "metadata": {},
   "outputs": [
    {
     "name": "stdout",
     "output_type": "stream",
     "text": [
      "enter name = Ram\n",
      "enter age = 34\n",
      "enter add = Kathmandu\n",
      "Hello I am Ram.I am from Kathmandu. I am 34 years old.\n",
      "Hello my name is Ram. I am 34 years old.\n"
     ]
    }
   ],
   "source": [
    "class A:\n",
    "    def __init__(self,name,age,add):\n",
    "        self.name= name\n",
    "        self._age=age\n",
    "        self.__add= add# this can only be used in class A.Even if it has been inherited by Class B, Class B cant use it.\n",
    "    def a(self):\n",
    "        print(f'Hello I am {self.name}.I am from {self.__add}. I am {self._age} years old.' )\n",
    "class B(A):\n",
    "    def info(self):\n",
    "        print(f'Hello my name is {self.name}. I am {self._age} years old.')\n",
    "        \n",
    "name=input('enter name = ')\n",
    "age=int(input('enter age = '))\n",
    "add=input('enter add = ')\n",
    "\n",
    "obj=B(name,age,add)\n",
    "obj.a()\n",
    "obj.info()"
   ]
  },
  {
   "cell_type": "code",
   "execution_count": 15,
   "id": "fa896083",
   "metadata": {},
   "outputs": [
    {
     "name": "stdout",
     "output_type": "stream",
     "text": [
      "I am from Kathmandu.\n",
      "I am 34 years old.\n",
      "I am Ram.\n",
      "Hello my name is Ram. I am from Kathmandu. I am 34 years old.\n"
     ]
    }
   ],
   "source": [
    "class A:\n",
    "    def __init__(self,add):\n",
    "        self._add= add\n",
    "    def address(self):\n",
    "        print(f'I am from {self._add}.')\n",
    "class B(A):\n",
    "    def __init__(self,age,add):\n",
    "        self._age= age\n",
    "        A.__init__(self,add)\n",
    "    def ages(self):\n",
    "        print(f'I am {self._age} years old.')\n",
    "        \n",
    "class C(B):\n",
    "    def __init__(self,name,age,add):\n",
    "        self.__name= name\n",
    "        B.__init__(self,age,add) #argument\n",
    "    def names(self):\n",
    "        print(f'I am {self.__name}.')\n",
    "    def info(self):\n",
    "        print(f'Hello my name is {self.__name}. I am from {self._add}. I am {self._age} years old.')\n",
    "        \n",
    "obj = C('Ram',34,'Kathmandu')\n",
    "obj.address()\n",
    "obj.ages()\n",
    "obj.names()\n",
    "obj.info()\n"
   ]
  },
  {
   "cell_type": "code",
   "execution_count": 24,
   "id": "6e93de12",
   "metadata": {},
   "outputs": [
    {
     "name": "stdout",
     "output_type": "stream",
     "text": [
      "enter name = Ram\n",
      "enter add = 34\n",
      "Hello my name is Ram.\n",
      "Hello my name is Ram. Hello my name is 34.\n"
     ]
    }
   ],
   "source": [
    "#super() function call\n",
    "class A:\n",
    "    def __init__(self,name,add):\n",
    "        self.name= name\n",
    "        self.add= add\n",
    "    def a(self):\n",
    "        return f'Hello my name is {self.name}.'\n",
    "class B(A):\n",
    "    def info(self):\n",
    "        print(super().a())\n",
    "        print(super().a(),f'Hello my name is {self.add}.')\n",
    "name=input('enter name = ')\n",
    "add=input('enter add = ')\n",
    "\n",
    "obj=B(name,add)\n",
    "obj.info()\n",
    "        "
   ]
  },
  {
   "cell_type": "code",
   "execution_count": 25,
   "id": "6906f3a7",
   "metadata": {},
   "outputs": [],
   "source": [
    "#WAP to kun string kun integer diff class ma initiale garne \n",
    "#[['ram',43]]\n",
    "#[['sita',34]]\n",
    "class A:\n",
    "    #name initialise\n",
    "    #print name list ko form ma\n",
    "    pass\n",
    "class B:\n",
    "    #age initialise\n",
    "    pass\n",
    "class C(A,B):\n",
    "    #print list ko form ma\n",
    "    pass\n",
    "obj = C()"
   ]
  },
  {
   "cell_type": "code",
   "execution_count": 31,
   "id": "e7909e2d",
   "metadata": {},
   "outputs": [
    {
     "name": "stdout",
     "output_type": "stream",
     "text": [
      "enter name = Ram\n",
      "enter age = 23\n",
      "['Ram']\n",
      "['23']\n",
      "['Ram 23']\n"
     ]
    }
   ],
   "source": [
    "class A:\n",
    "    def __init__(self,name):\n",
    "        self.name=input('enter name = ')\n",
    "    def a(self):\n",
    "        names=[]\n",
    "        data=f'{self.name}'\n",
    "        names.append(data)\n",
    "        print(names)\n",
    "class B:\n",
    "    def __init__(self,age):\n",
    "        self.age =int(input('enter age = '))\n",
    "    def b(self):\n",
    "        ages = []\n",
    "        \n",
    "        data=f'{self.age}'\n",
    "        ages.append(data)\n",
    "        print(ages)\n",
    "class C(A,B):\n",
    "    def __init__(self,name,age):\n",
    "        \n",
    "        A.__init__(self,name)\n",
    "        B.__init__(self,age)\n",
    "    def c(self):\n",
    "        info=[]\n",
    "        data=f'{self.name} {self.age}'\n",
    "        info.append(data)\n",
    "        print(info)\n",
    "        \n",
    "obj = C(name,age)\n",
    "obj.a()\n",
    "obj.b()\n",
    "obj.c()\n"
   ]
  },
  {
   "cell_type": "markdown",
   "id": "9f591d45",
   "metadata": {},
   "source": []
  },
  {
   "cell_type": "code",
   "execution_count": null,
   "id": "f9258b57",
   "metadata": {},
   "outputs": [],
   "source": []
  },
  {
   "cell_type": "code",
   "execution_count": 4,
   "id": "e9d36fbb",
   "metadata": {},
   "outputs": [
    {
     "name": "stdout",
     "output_type": "stream",
     "text": [
      "enter n = 2\n",
      "enter name = ram\n",
      "enter age = 34\n",
      "enter address = ktm\n",
      "enter name = rita\n",
      "enter age = 67\n",
      "enter address = pkr\n",
      "[['ram', 23, 'ktm'], ['sita', 23, 'ktm']]\n"
     ]
    }
   ],
   "source": [
    "#try\n",
    "class A:\n",
    "    def __init__(self,name,age,add):\n",
    "        info=[]\n",
    "        n=int(input('enter n = '))\n",
    "        for i in range(n):\n",
    "            self.name=input('enter name = ')\n",
    "            self.age=int(input('enter age = '))\n",
    "            self.add=input('enter address = ')\n",
    "            data=[name,age,add]\n",
    "            info.append(data)\n",
    "        \n",
    "    def a(self):\n",
    "        print(info)\n",
    "        \n",
    "            \n",
    "        \n",
    "obj = A(name,age,add)\n",
    "obj.a()"
   ]
  },
  {
   "cell_type": "code",
   "execution_count": 2,
   "id": "1e12d2df",
   "metadata": {},
   "outputs": [
    {
     "name": "stdout",
     "output_type": "stream",
     "text": [
      "enter n = 2\n",
      "[['sita', 23, 'ktm'], ['sita', 23, 'ktm']]\n"
     ]
    }
   ],
   "source": [
    "#try\n",
    "class A:\n",
    "    \n",
    "\n",
    "    def a(self):\n",
    "        info=[]\n",
    "        n=int(input('enter n = '))\n",
    "        for i in range(n):\n",
    "            def __init__(self,name,age,add):\n",
    "                self.name=input('enter name = ')\n",
    "                self.age=int(input('enter age = '))\n",
    "                self.add=input('enter address = ')\n",
    "            data=[name,age,add]\n",
    "            info.append(data)\n",
    "        print(info)\n",
    "            \n",
    "        \n",
    "obj = A()\n",
    "obj.a()"
   ]
  },
  {
   "cell_type": "code",
   "execution_count": null,
   "id": "5111282f",
   "metadata": {},
   "outputs": [],
   "source": []
  },
  {
   "cell_type": "code",
   "execution_count": null,
   "id": "c8306fb7",
   "metadata": {},
   "outputs": [],
   "source": []
  },
  {
   "cell_type": "code",
   "execution_count": null,
   "id": "3cc0d678",
   "metadata": {},
   "outputs": [],
   "source": []
  }
 ],
 "metadata": {
  "kernelspec": {
   "display_name": "Python 3 (ipykernel)",
   "language": "python",
   "name": "python3"
  },
  "language_info": {
   "codemirror_mode": {
    "name": "ipython",
    "version": 3
   },
   "file_extension": ".py",
   "mimetype": "text/x-python",
   "name": "python",
   "nbconvert_exporter": "python",
   "pygments_lexer": "ipython3",
   "version": "3.9.7"
  }
 },
 "nbformat": 4,
 "nbformat_minor": 5
}
