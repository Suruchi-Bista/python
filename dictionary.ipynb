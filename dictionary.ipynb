{
 "cells": [
  {
   "cell_type": "code",
   "execution_count": 1,
   "id": "f545da44",
   "metadata": {},
   "outputs": [],
   "source": [
    "# indexed\n",
    "# ordered \n",
    "# multiple and duplicate data\n",
    "# mutable"
   ]
  },
  {
   "cell_type": "code",
   "execution_count": 2,
   "id": "c09de2fe",
   "metadata": {},
   "outputs": [
    {
     "name": "stdout",
     "output_type": "stream",
     "text": [
      "{'a': 'apple', 'b': 'ball'}\n",
      "<class 'dict'>\n"
     ]
    }
   ],
   "source": [
    "#a={<key>:<value>,<key>:<value>}\n",
    "\n",
    "#indexed\n",
    "a={'a':'apple','b':'ball'}\n",
    "print(a)\n",
    "print(type(a))"
   ]
  },
  {
   "cell_type": "code",
   "execution_count": 3,
   "id": "f582841b",
   "metadata": {},
   "outputs": [
    {
     "name": "stdout",
     "output_type": "stream",
     "text": [
      "apple\n"
     ]
    }
   ],
   "source": [
    "print(a['a'])"
   ]
  },
  {
   "cell_type": "code",
   "execution_count": 4,
   "id": "4b239b32",
   "metadata": {},
   "outputs": [],
   "source": [
    "#ordered jasto order ma cha tei order ma print huncha\n",
    "#no concat + or *\n"
   ]
  },
  {
   "cell_type": "code",
   "execution_count": 5,
   "id": "b3648f7b",
   "metadata": {},
   "outputs": [
    {
     "name": "stdout",
     "output_type": "stream",
     "text": [
      "2\n"
     ]
    }
   ],
   "source": [
    "a={'a':'apple','b':'ball'}\n",
    "print(len(a))"
   ]
  },
  {
   "cell_type": "code",
   "execution_count": 6,
   "id": "60c026f5",
   "metadata": {},
   "outputs": [
    {
     "name": "stdout",
     "output_type": "stream",
     "text": [
      "{'a': 'apple', 'b': 'ball', 'c': 'dog'}\n"
     ]
    }
   ],
   "source": [
    "#mutable\n",
    "a={'a':'apple','b':'ball'}\n",
    "a['c']='dog'\n",
    "print(a)"
   ]
  },
  {
   "cell_type": "code",
   "execution_count": 7,
   "id": "a8ea981f",
   "metadata": {},
   "outputs": [
    {
     "name": "stdout",
     "output_type": "stream",
     "text": [
      "{'a': 'apple', 'b': 'ball', 'c': 'cat'}\n"
     ]
    }
   ],
   "source": [
    "a={}\n",
    "a['a']='apple'\n",
    "a['b']='ball'\n",
    "a['c']='cat'\n",
    "print(a)\n"
   ]
  },
  {
   "cell_type": "code",
   "execution_count": 9,
   "id": "2cff5120",
   "metadata": {},
   "outputs": [
    {
     "name": "stdout",
     "output_type": "stream",
     "text": [
      "enter n = 2\n",
      "enter name = ram\n",
      "enter phone = 234253\n",
      "enter name = hari\n",
      "enter phone = 24234\n",
      "{'ram': 234253, 'hari': 24234}\n"
     ]
    }
   ],
   "source": [
    "data={}\n",
    "n=int(input('enter n = '))\n",
    "for i in range(n):\n",
    "    name=input('enter name = ')\n",
    "    phone=int(input('enter phone = '))\n",
    "    data[name]=phone\n",
    "print(data)"
   ]
  },
  {
   "cell_type": "code",
   "execution_count": 12,
   "id": "b91175cc",
   "metadata": {},
   "outputs": [
    {
     "name": "stdout",
     "output_type": "stream",
     "text": [
      "{'ram': 2355657, 'hari': 24234}\n"
     ]
    }
   ],
   "source": [
    "a={'ram': 234253, 'hari': 24234}\n",
    "a['ram']=2355657\n",
    "print(a)"
   ]
  },
  {
   "cell_type": "code",
   "execution_count": 13,
   "id": "db8286f3",
   "metadata": {},
   "outputs": [
    {
     "name": "stdout",
     "output_type": "stream",
     "text": [
      "ram\n",
      "hari\n"
     ]
    }
   ],
   "source": [
    "a={'ram': 234253, 'hari': 24234}\n",
    "for i in a:\n",
    "    print(i)"
   ]
  },
  {
   "cell_type": "code",
   "execution_count": 16,
   "id": "3f7290d8",
   "metadata": {},
   "outputs": [
    {
     "name": "stdout",
     "output_type": "stream",
     "text": [
      "234253\n",
      "24234\n"
     ]
    }
   ],
   "source": [
    "a={'ram': 234253, 'hari': 24234}\n",
    "for i in a.values():\n",
    "        print(i)"
   ]
  },
  {
   "cell_type": "code",
   "execution_count": 17,
   "id": "1487e337",
   "metadata": {},
   "outputs": [
    {
     "name": "stdout",
     "output_type": "stream",
     "text": [
      "('ram', 234253)\n",
      "('hari', 24234)\n"
     ]
    }
   ],
   "source": [
    "a={'ram': 234253, 'hari': 24234}\n",
    "for i in a.items():\n",
    "        print(i)"
   ]
  },
  {
   "cell_type": "code",
   "execution_count": 18,
   "id": "c1577bbf",
   "metadata": {},
   "outputs": [
    {
     "name": "stdout",
     "output_type": "stream",
     "text": [
      "{'b': 'ball', 'c': 'cat'}\n"
     ]
    }
   ],
   "source": [
    "a={'a': 'apple', 'b': 'ball', 'c': 'cat'}\n",
    "del a['a']\n",
    "print(a)"
   ]
  },
  {
   "cell_type": "code",
   "execution_count": 20,
   "id": "04eda84e",
   "metadata": {},
   "outputs": [
    {
     "name": "stdout",
     "output_type": "stream",
     "text": [
      "{'b': 'ball', 'c': 'cat'}\n"
     ]
    }
   ],
   "source": [
    "a={'a': 'apple', 'b': 'ball', 'c': 'cat'}\n",
    "a.pop('a')\n",
    "print(a)"
   ]
  },
  {
   "cell_type": "code",
   "execution_count": 21,
   "id": "7832348f",
   "metadata": {},
   "outputs": [
    {
     "name": "stdout",
     "output_type": "stream",
     "text": [
      "{'b': 'ball', 'c': 'cat'}\n",
      "apple\n"
     ]
    }
   ],
   "source": [
    "a={'a': 'apple', 'b': 'ball', 'c': 'cat'}\n",
    "b=a.pop('a')\n",
    "print(a)\n",
    "print(b)"
   ]
  },
  {
   "cell_type": "code",
   "execution_count": 23,
   "id": "e4d95d5e",
   "metadata": {},
   "outputs": [
    {
     "name": "stdout",
     "output_type": "stream",
     "text": [
      "enter n = 2\n",
      "enter name = ram\n",
      "enter ntc no = 2134354\n",
      "enter ncell no = 2342154\n",
      "enter name = shyam\n",
      "enter ntc no = 24343\n",
      "enter ncell no = 6758664\n",
      "{'ram': ['2134354', '2342154'], 'shyam': ['24343', '6758664']}\n"
     ]
    }
   ],
   "source": [
    "#list inside dictionary\n",
    "\n",
    "info={}\n",
    "n=int(input('enter n = '))\n",
    "for i in range(n):\n",
    "    name=input('enter name = ')\n",
    "    ntc_phone=input('enter ntc no = ')\n",
    "    ncell_phone=input('enter ncell no = ')\n",
    "    info[name]=[ntc_phone,ncell_phone]\n",
    "print(info)\n",
    "\n"
   ]
  },
  {
   "cell_type": "code",
   "execution_count": 28,
   "id": "e17b3ea0",
   "metadata": {},
   "outputs": [
    {
     "name": "stdout",
     "output_type": "stream",
     "text": [
      "['apple', 'ant']\n",
      "apple\n",
      "boat\n"
     ]
    }
   ],
   "source": [
    "a={'a': ['apple','ant'], 'b': ['ball','boat'], 'c': ['cat','cow']}\n",
    "print(a['a'])\n",
    "print(a['a'][0])\n",
    "print(a['b'][1])\n"
   ]
  },
  {
   "cell_type": "code",
   "execution_count": 30,
   "id": "8fbf0a03",
   "metadata": {},
   "outputs": [
    {
     "name": "stdout",
     "output_type": "stream",
     "text": [
      "{'a': ['apple', 'ant', 'aeroplane'], 'b': ['ball', 'boat'], 'c': ['cat', 'cow']}\n"
     ]
    }
   ],
   "source": [
    "a={'a': ['apple','ant'], 'b': ['ball','boat'], 'c': ['cat','cow']}\n",
    "a['a'].append('aeroplane')\n",
    "print(a)"
   ]
  },
  {
   "cell_type": "code",
   "execution_count": 32,
   "id": "88c8ffa6",
   "metadata": {},
   "outputs": [
    {
     "name": "stdout",
     "output_type": "stream",
     "text": [
      "{'a': ['apple', 'ant'], 'b': ['ball', 'boat'], 'c': ['cat', 'cow'], 'd': ['dog', 'drum']}\n"
     ]
    }
   ],
   "source": [
    "a={'a': ['apple','ant'], 'b': ['ball','boat'], 'c': ['cat','cow']}\n",
    "a['d']=['dog','drum']\n",
    "print(a)"
   ]
  },
  {
   "cell_type": "code",
   "execution_count": 34,
   "id": "d6e2eb27",
   "metadata": {},
   "outputs": [
    {
     "name": "stdout",
     "output_type": "stream",
     "text": [
      "{'name': ['ram', 'shyam'], 'NTC': [12344, 5665787], 'Ncell': [345466, 987665655]}\n"
     ]
    }
   ],
   "source": [
    "a={'name': ['ram','shyam'], 'NTC': [12344,5665787], 'Ncell': [345466,987665655]}\n",
    "print(a)"
   ]
  },
  {
   "cell_type": "code",
   "execution_count": 38,
   "id": "2082353f",
   "metadata": {},
   "outputs": [
    {
     "name": "stdout",
     "output_type": "stream",
     "text": [
      "enter n = 1\n",
      "enter name = ram\n",
      "enter ntc no = 2435\n",
      "enter ncell no = 76543\n"
     ]
    },
    {
     "ename": "KeyError",
     "evalue": "'name'",
     "output_type": "error",
     "traceback": [
      "\u001b[1;31m---------------------------------------------------------------------------\u001b[0m",
      "\u001b[1;31mKeyError\u001b[0m                                  Traceback (most recent call last)",
      "\u001b[1;32m~\\AppData\\Local\\Temp/ipykernel_6252/3742747328.py\u001b[0m in \u001b[0;36m<module>\u001b[1;34m\u001b[0m\n\u001b[0;32m      5\u001b[0m     \u001b[0mntc_phone\u001b[0m\u001b[1;33m=\u001b[0m\u001b[0minput\u001b[0m\u001b[1;33m(\u001b[0m\u001b[1;34m'enter ntc no = '\u001b[0m\u001b[1;33m)\u001b[0m\u001b[1;33m\u001b[0m\u001b[1;33m\u001b[0m\u001b[0m\n\u001b[0;32m      6\u001b[0m     \u001b[0mncell_phone\u001b[0m\u001b[1;33m=\u001b[0m\u001b[0minput\u001b[0m\u001b[1;33m(\u001b[0m\u001b[1;34m'enter ncell no = '\u001b[0m\u001b[1;33m)\u001b[0m\u001b[1;33m\u001b[0m\u001b[1;33m\u001b[0m\u001b[0m\n\u001b[1;32m----> 7\u001b[1;33m     \u001b[0minfo\u001b[0m\u001b[1;33m[\u001b[0m\u001b[1;34m'name'\u001b[0m\u001b[1;33m]\u001b[0m\u001b[1;33m.\u001b[0m\u001b[0mappend\u001b[0m\u001b[1;33m(\u001b[0m\u001b[0mname\u001b[0m\u001b[1;33m)\u001b[0m\u001b[1;33m\u001b[0m\u001b[1;33m\u001b[0m\u001b[0m\n\u001b[0m\u001b[0;32m      8\u001b[0m     \u001b[0minfo\u001b[0m\u001b[1;33m[\u001b[0m\u001b[1;34m'NTC'\u001b[0m\u001b[1;33m]\u001b[0m\u001b[1;33m.\u001b[0m\u001b[0mappend\u001b[0m\u001b[1;33m(\u001b[0m\u001b[0mntc_phone\u001b[0m\u001b[1;33m)\u001b[0m\u001b[1;33m\u001b[0m\u001b[1;33m\u001b[0m\u001b[0m\n\u001b[0;32m      9\u001b[0m     \u001b[0minfo\u001b[0m\u001b[1;33m[\u001b[0m\u001b[1;34m'Ncell'\u001b[0m\u001b[1;33m]\u001b[0m\u001b[1;33m.\u001b[0m\u001b[0mappend\u001b[0m\u001b[1;33m(\u001b[0m\u001b[0mncell_phone\u001b[0m\u001b[1;33m)\u001b[0m\u001b[1;33m\u001b[0m\u001b[1;33m\u001b[0m\u001b[0m\n",
      "\u001b[1;31mKeyError\u001b[0m: 'name'"
     ]
    }
   ],
   "source": [
    "info={}\n",
    "n=int(input('enter n = '))\n",
    "for i in range(n):\n",
    "    name=input('enter name = ')\n",
    "    ntc_phone=input('enter ntc no = ')\n",
    "    ncell_phone=input('enter ncell no = ')\n",
    "    info['name'].append(name)\n",
    "    info['NTC'].append(ntc_phone)\n",
    "    info['Ncell'].append(ncell_phone)\n",
    "print(info)\n"
   ]
  },
  {
   "cell_type": "code",
   "execution_count": 36,
   "id": "7b5de3eb",
   "metadata": {},
   "outputs": [
    {
     "name": "stdout",
     "output_type": "stream",
     "text": [
      "enter n = 2\n",
      "enter name = ram\n",
      "enter ntc no = 214345\n",
      "enter ncell no = 3456\n",
      "enter name = shyam\n",
      "enter ntc no = 45\n",
      "enter ncell no = 778965543\n",
      "{'name': ['ram', 'shyam'], 'NTC': ['214345', '45'], 'Ncell': ['3456', '778965543']}\n"
     ]
    }
   ],
   "source": [
    "info={'name':[],'NTC':[],'Ncell':[]}\n",
    "n=int(input('enter n = '))\n",
    "for i in range(n):\n",
    "    name=input('enter name = ')\n",
    "    ntc_phone=input('enter ntc no = ')\n",
    "    ncell_phone=input('enter ncell no = ')\n",
    "    info['name'].append(name)\n",
    "    info['NTC'].append(ntc_phone)\n",
    "    info['Ncell'].append(ncell_phone)\n",
    "print(info)"
   ]
  },
  {
   "cell_type": "code",
   "execution_count": 52,
   "id": "2b2cd9e7",
   "metadata": {},
   "outputs": [
    {
     "name": "stdout",
     "output_type": "stream",
     "text": [
      "{'name': 'ram', 'age': 43, 'add': 'ktm'}\n",
      "ram\n"
     ]
    }
   ],
   "source": [
    "info=[{'name':'ram','age':43,'add':'ktm'},{'name':'shyam','age':93,'add':'ktm'},{'name':'sita','age':23,'add':'ktm'}]\n",
    "print(info[0])\n",
    "print(info[0]['name'])"
   ]
  },
  {
   "cell_type": "code",
   "execution_count": 46,
   "id": "de75dbb9",
   "metadata": {},
   "outputs": [
    {
     "data": {
      "text/plain": [
       "'sita'"
      ]
     },
     "execution_count": 46,
     "metadata": {},
     "output_type": "execute_result"
    }
   ],
   "source": []
  },
  {
   "cell_type": "code",
   "execution_count": 45,
   "id": "2b361768",
   "metadata": {},
   "outputs": [],
   "source": []
  },
  {
   "cell_type": "code",
   "execution_count": 49,
   "id": "141ebf7e",
   "metadata": {},
   "outputs": [
    {
     "name": "stdout",
     "output_type": "stream",
     "text": [
      "[{'name': 'hari', 'age': 43, 'add': 'ktm'}, {'name': 'shyam', 'age': 93, 'add': 'ktm'}, {'name': 'sita', 'age': 23, 'add': 'ktm'}]\n"
     ]
    }
   ],
   "source": [
    "info=[{'name':'ram','age':43,'add':'ktm'},{'name':'shyam','age':93,'add':'ktm'},{'name':'sita','age':23,'add':'ktm'}]\n",
    "info[0]['name']='hari'\n",
    "print(info)"
   ]
  },
  {
   "cell_type": "code",
   "execution_count": 50,
   "id": "f4aa82ad",
   "metadata": {},
   "outputs": [
    {
     "name": "stdout",
     "output_type": "stream",
     "text": [
      "[{'name': 'shyam', 'age': 93, 'add': 'ktm'}, {'name': 'sita', 'age': 23, 'add': 'ktm'}]\n"
     ]
    }
   ],
   "source": [
    "del info[0]\n",
    "print(info)"
   ]
  },
  {
   "cell_type": "code",
   "execution_count": 56,
   "id": "148abc12",
   "metadata": {},
   "outputs": [
    {
     "name": "stdout",
     "output_type": "stream",
     "text": [
      "enter n = 2\n",
      "enter name = ram\n",
      "enter age = 23\n",
      "enter address = ktm\n",
      "enter name = shyam\n",
      "enter age = 43\n",
      "enter address = ktm\n",
      "[{'name': 'ram', 'age': 23, 'add': 'ktm'}, {'name': 'shyam', 'age': 43, 'add': 'ktm'}]\n"
     ]
    }
   ],
   "source": [
    "info=[]\n",
    "n=int(input('enter n = '))\n",
    "for i in range(n):\n",
    "    name=input('enter name = ')\n",
    "    age=int(input('enter age = '))\n",
    "    add=input('enter address = ')\n",
    "    data={'name':name,'age':age,'add':add}\n",
    "    info.append(data)\n",
    "print(info)"
   ]
  },
  {
   "cell_type": "code",
   "execution_count": 57,
   "id": "6d1ccd33",
   "metadata": {},
   "outputs": [],
   "source": [
    "#dictionary as a comprehension"
   ]
  },
  {
   "cell_type": "code",
   "execution_count": 59,
   "id": "f6925688",
   "metadata": {},
   "outputs": [
    {
     "name": "stdout",
     "output_type": "stream",
     "text": [
      "enter letter = b\n"
     ]
    },
    {
     "ename": "KeyError",
     "evalue": "'b'",
     "output_type": "error",
     "traceback": [
      "\u001b[1;31m---------------------------------------------------------------------------\u001b[0m",
      "\u001b[1;31mKeyError\u001b[0m                                  Traceback (most recent call last)",
      "\u001b[1;32m~\\AppData\\Local\\Temp/ipykernel_6252/2073144159.py\u001b[0m in \u001b[0;36m<module>\u001b[1;34m\u001b[0m\n\u001b[0;32m      1\u001b[0m \u001b[0ma\u001b[0m\u001b[1;33m=\u001b[0m\u001b[1;33m{\u001b[0m\u001b[1;34m'a'\u001b[0m\u001b[1;33m:\u001b[0m \u001b[1;34m'apple'\u001b[0m\u001b[1;33m,\u001b[0m \u001b[1;34m'b'\u001b[0m\u001b[1;33m:\u001b[0m \u001b[1;34m'ball'\u001b[0m\u001b[1;33m,\u001b[0m \u001b[1;34m'c'\u001b[0m\u001b[1;33m:\u001b[0m \u001b[1;34m'cat'\u001b[0m\u001b[1;33m}\u001b[0m\u001b[1;33m\u001b[0m\u001b[1;33m\u001b[0m\u001b[0m\n\u001b[0;32m      2\u001b[0m \u001b[0mletter\u001b[0m\u001b[1;33m=\u001b[0m\u001b[0minput\u001b[0m\u001b[1;33m(\u001b[0m\u001b[1;34m'enter letter = '\u001b[0m\u001b[1;33m)\u001b[0m\u001b[1;33m\u001b[0m\u001b[1;33m\u001b[0m\u001b[0m\n\u001b[1;32m----> 3\u001b[1;33m \u001b[0mword\u001b[0m\u001b[1;33m=\u001b[0m\u001b[0mdata\u001b[0m\u001b[1;33m[\u001b[0m\u001b[0mletter\u001b[0m\u001b[1;33m]\u001b[0m\u001b[1;33m\u001b[0m\u001b[1;33m\u001b[0m\u001b[0m\n\u001b[0m\u001b[0;32m      4\u001b[0m \u001b[0mprint\u001b[0m\u001b[1;33m(\u001b[0m\u001b[0mword\u001b[0m\u001b[1;33m)\u001b[0m\u001b[1;33m\u001b[0m\u001b[1;33m\u001b[0m\u001b[0m\n",
      "\u001b[1;31mKeyError\u001b[0m: 'b'"
     ]
    }
   ],
   "source": [
    "a={'a': 'apple', 'b': 'ball', 'c': 'cat'}\n",
    "letter=input('enter letter = ')\n",
    "word=data[letter]\n",
    "print(word)"
   ]
  },
  {
   "cell_type": "code",
   "execution_count": 63,
   "id": "3995c2b3",
   "metadata": {},
   "outputs": [
    {
     "name": "stdout",
     "output_type": "stream",
     "text": [
      "enter product name = coke\n",
      "enter quantity = 3\n",
      "300\n"
     ]
    }
   ],
   "source": [
    "data={'coke':100,'pizza':200}\n",
    "product=input('enter product name = ')\n",
    "price=data[product]\n",
    "quantity=int(input('enter quantity = '))\n",
    "total=price*quantity\n",
    "print(total)\n"
   ]
  },
  {
   "cell_type": "code",
   "execution_count": 62,
   "id": "2adb2e1e",
   "metadata": {},
   "outputs": [
    {
     "ename": "SyntaxError",
     "evalue": "invalid syntax (Temp/ipykernel_6252/3687770041.py, line 1)",
     "output_type": "error",
     "traceback": [
      "\u001b[1;36m  File \u001b[1;32m\"C:\\Users\\Arjun\\AppData\\Local\\Temp/ipykernel_6252/3687770041.py\"\u001b[1;36m, line \u001b[1;32m1\u001b[0m\n\u001b[1;33m    data={t'coke':100,'pizza':200}\u001b[0m\n\u001b[1;37m           ^\u001b[0m\n\u001b[1;31mSyntaxError\u001b[0m\u001b[1;31m:\u001b[0m invalid syntax\n"
     ]
    }
   ],
   "source": [
    "data={'coke':100,'pizza':200}\n",
    "product=input('enter product name = ')\n",
    "price=data[product]\n",
    "print(price)"
   ]
  },
  {
   "cell_type": "markdown",
   "id": "d300cfca",
   "metadata": {},
   "source": []
  },
  {
   "cell_type": "code",
   "execution_count": 1,
   "id": "0e3980b7",
   "metadata": {},
   "outputs": [
    {
     "name": "stdout",
     "output_type": "stream",
     "text": [
      "{111234: {'Name': 'Ram Prasad', 'Age': 45, 'Add': 'Kathmandu'}, 223432: {'Name': 'Shyam', 'Age': 34, 'Add': 'Bhaktapur'}, 334321: {'Name': 'Hari', 'Age': 44, 'Add': 'Lalitpur'}, 434572: {'Name': 'Sita', 'Age': 34, 'Add': 'Kathmandu'}}\n"
     ]
    }
   ],
   "source": [
    "a = {111234:{'Name': 'Ram Prasad', 'Age': 45, 'Add': 'Kathmandu'},\n",
    "     223432:{'Name': 'Shyam', 'Age': 34, 'Add': 'Bhaktapur'},\n",
    "     334321:{'Name': 'Hari', 'Age': 44, 'Add': 'Lalitpur'},\n",
    "     434572:{'Name': 'Sita', 'Age': 34, 'Add': 'Kathmandu'}}\n",
    "print(a)"
   ]
  },
  {
   "cell_type": "code",
   "execution_count": 2,
   "id": "ca4b98cd",
   "metadata": {},
   "outputs": [
    {
     "name": "stdout",
     "output_type": "stream",
     "text": [
      "{'Name': 'Ram Prasad', 'Age': 45, 'Add': 'Kathmandu'}\n"
     ]
    }
   ],
   "source": [
    "print(a[111234])"
   ]
  },
  {
   "cell_type": "code",
   "execution_count": 3,
   "id": "ef49c54b",
   "metadata": {},
   "outputs": [
    {
     "data": {
      "text/plain": [
       "{111234: {'Name': 'Ram Prasad', 'Age': 45, 'Add': 'Kathmandu'},\n",
       " 223432: {'Name': 'Shyam', 'Age': 34, 'Add': 'Bhaktapur'},\n",
       " 334321: {'Name': 'Hari', 'Age': 44, 'Add': 'Lalitpur'},\n",
       " 434572: {'Name': 'Sita', 'Age': 34, 'Add': 'Kathmandu'},\n",
       " 453456: {'Name': 'Sabin', 'Age': 56, 'Add': 'Kathmandu'}}"
      ]
     },
     "execution_count": 3,
     "metadata": {},
     "output_type": "execute_result"
    }
   ],
   "source": [
    "a [453456] = {'Name':'Sabin','Age':56,'Add':'Kathmandu'}\n",
    "a"
   ]
  },
  {
   "cell_type": "code",
   "execution_count": 13,
   "id": "93d570ac",
   "metadata": {},
   "outputs": [
    {
     "name": "stdout",
     "output_type": "stream",
     "text": [
      "{1: {'name': 'hari', 'age': 43, 'add': 'ktm'}, 2: {'name': 'shyam', 'age': 93, 'add': 'ktm'}, 3: {'name': 'sita', 'age': 23, 'add': 'ktm'}, 675: {'name': 'yaman', 'age': 19, 'add': 'ktm'}}\n"
     ]
    }
   ],
   "source": [
    "a=={143:{'name': 'hari', 'age': 43, 'add': 'ktm'}, \n",
    "  245:{'name': 'shyam', 'age': 93, 'add': 'ktm'}, \n",
    "  376:{'name': 'sita', 'age': 23, 'add': 'ktm'}} \n",
    "a[675]={'name': 'yaman', 'age': 19, 'add': 'ktm'}\n",
    "print(a)"
   ]
  },
  {
   "cell_type": "code",
   "execution_count": 14,
   "id": "a64cc4ad",
   "metadata": {},
   "outputs": [],
   "source": [
    "#for loop haru lagayera garne"
   ]
  },
  {
   "cell_type": "code",
   "execution_count": null,
   "id": "ee88749c",
   "metadata": {},
   "outputs": [],
   "source": [
    "# WAP to create dictionary inside dictionary\n",
    "#CRUD operations practice"
   ]
  }
 ],
 "metadata": {
  "kernelspec": {
   "display_name": "Python 3 (ipykernel)",
   "language": "python",
   "name": "python3"
  },
  "language_info": {
   "codemirror_mode": {
    "name": "ipython",
    "version": 3
   },
   "file_extension": ".py",
   "mimetype": "text/x-python",
   "name": "python",
   "nbconvert_exporter": "python",
   "pygments_lexer": "ipython3",
   "version": "3.9.7"
  }
 },
 "nbformat": 4,
 "nbformat_minor": 5
}
