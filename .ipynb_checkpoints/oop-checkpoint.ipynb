{
 "cells": [
  {
   "cell_type": "code",
   "execution_count": 1,
   "id": "e19940d9",
   "metadata": {},
   "outputs": [],
   "source": [
    "#class <class_name>:\n",
    " #   <operation>\n",
    "#obj=<class_name>()\n"
   ]
  },
  {
   "cell_type": "markdown",
   "id": "c34fc195",
   "metadata": {},
   "source": []
  },
  {
   "cell_type": "code",
   "execution_count": 4,
   "id": "3cbb5965",
   "metadata": {},
   "outputs": [
    {
     "name": "stdout",
     "output_type": "stream",
     "text": [
      "hello world\n"
     ]
    }
   ],
   "source": [
    "class Hello:\n",
    "    print('hello world')\n",
    "obj=Hello()"
   ]
  },
  {
   "cell_type": "code",
   "execution_count": 3,
   "id": "f53c0d7d",
   "metadata": {},
   "outputs": [
    {
     "ename": "TypeError",
     "evalue": "hello() takes 0 positional arguments but 1 was given",
     "output_type": "error",
     "traceback": [
      "\u001b[1;31m---------------------------------------------------------------------------\u001b[0m",
      "\u001b[1;31mTypeError\u001b[0m                                 Traceback (most recent call last)",
      "\u001b[1;32m~\\AppData\\Local\\Temp/ipykernel_9660/2764325503.py\u001b[0m in \u001b[0;36m<module>\u001b[1;34m\u001b[0m\n\u001b[0;32m      3\u001b[0m         \u001b[0mprint\u001b[0m\u001b[1;33m(\u001b[0m\u001b[1;34m'hello world'\u001b[0m\u001b[1;33m)\u001b[0m\u001b[1;33m\u001b[0m\u001b[1;33m\u001b[0m\u001b[0m\n\u001b[0;32m      4\u001b[0m \u001b[0mobj\u001b[0m\u001b[1;33m=\u001b[0m\u001b[0mHello\u001b[0m\u001b[1;33m(\u001b[0m\u001b[1;33m)\u001b[0m\u001b[1;33m\u001b[0m\u001b[1;33m\u001b[0m\u001b[0m\n\u001b[1;32m----> 5\u001b[1;33m \u001b[0mobj\u001b[0m\u001b[1;33m.\u001b[0m\u001b[0mhello\u001b[0m\u001b[1;33m(\u001b[0m\u001b[1;33m)\u001b[0m\u001b[1;33m\u001b[0m\u001b[1;33m\u001b[0m\u001b[0m\n\u001b[0m",
      "\u001b[1;31mTypeError\u001b[0m: hello() takes 0 positional arguments but 1 was given"
     ]
    }
   ],
   "source": [
    "class Hello:\n",
    "    def hello():\n",
    "        print('hello world')\n",
    "obj=Hello()\n",
    "obj.hello()"
   ]
  },
  {
   "cell_type": "code",
   "execution_count": 5,
   "id": "379afe9f",
   "metadata": {},
   "outputs": [
    {
     "name": "stdout",
     "output_type": "stream",
     "text": [
      "hello world\n"
     ]
    }
   ],
   "source": [
    "class Hello:\n",
    "    def hello(self):\n",
    "        print('hello world')\n",
    "obj=Hello()\n",
    "obj.hello()"
   ]
  },
  {
   "cell_type": "code",
   "execution_count": 6,
   "id": "0d1cb23e",
   "metadata": {},
   "outputs": [
    {
     "name": "stdout",
     "output_type": "stream",
     "text": [
      "hello world\n"
     ]
    }
   ],
   "source": [
    "class Hello:\n",
    "    @staticmethod\n",
    "    def hello():\n",
    "        print('hello world')\n",
    "obj=Hello()\n",
    "obj.hello()"
   ]
  },
  {
   "cell_type": "code",
   "execution_count": 7,
   "id": "6bfc7819",
   "metadata": {},
   "outputs": [
    {
     "name": "stdout",
     "output_type": "stream",
     "text": [
      "hello world\n"
     ]
    }
   ],
   "source": [
    "class Hello:\n",
    "    def hello(suruchi):\n",
    "        print('hello world')\n",
    "obj=Hello()\n",
    "obj.hello()"
   ]
  },
  {
   "cell_type": "code",
   "execution_count": 9,
   "id": "11f962be",
   "metadata": {},
   "outputs": [
    {
     "name": "stdout",
     "output_type": "stream",
     "text": [
      "50\n"
     ]
    }
   ],
   "source": [
    "#yesma class ko variable use nai garnu pardaina so staticmethod\n",
    "class Area:\n",
    "    @staticmethod\n",
    "    def area(l,b):\n",
    "        print(l*b)\n",
    "obj=Area()\n",
    "obj.area(10,5)"
   ]
  },
  {
   "cell_type": "code",
   "execution_count": 10,
   "id": "0b9a5412",
   "metadata": {},
   "outputs": [
    {
     "name": "stdout",
     "output_type": "stream",
     "text": [
      "50\n"
     ]
    }
   ],
   "source": [
    "class Area:\n",
    "    \n",
    "    def area(self,l,b):\n",
    "        print(l*b)\n",
    "obj=Area()\n",
    "obj.area(10,5)"
   ]
  },
  {
   "cell_type": "code",
   "execution_count": 11,
   "id": "595a8788",
   "metadata": {},
   "outputs": [
    {
     "name": "stdout",
     "output_type": "stream",
     "text": [
      "50\n",
      "100\n"
     ]
    }
   ],
   "source": [
    "class Cal:\n",
    "   \n",
    "    def area(self,l,b):\n",
    "        print(l*b)\n",
    "    def volume(self,l,b,h):\n",
    "        print(l*b*h)\n",
    "obj=Cal()\n",
    "obj.area(10,5)\n",
    "obj.volume(10,5,2)"
   ]
  },
  {
   "cell_type": "code",
   "execution_count": 18,
   "id": "abd79191",
   "metadata": {},
   "outputs": [
    {
     "name": "stdout",
     "output_type": "stream",
     "text": [
      "50\n",
      "100\n"
     ]
    }
   ],
   "source": [
    "# class ma value initilization garne\n",
    "class Cal:\n",
    "    def __init__(self,l,b,h):\n",
    "        self.len=l\n",
    "        self.bth=b\n",
    "        self.hgt=h\n",
    "   \n",
    "    def area(self):\n",
    "        print(self.len*self.bth)\n",
    "    def volume(self):\n",
    "        print(self.len*self.bth*self.hgt)\n",
    "obj=Cal(10,5,2)\n",
    "obj.area()\n",
    "obj.volume()"
   ]
  },
  {
   "cell_type": "code",
   "execution_count": 19,
   "id": "a5a4ef48",
   "metadata": {},
   "outputs": [
    {
     "name": "stdout",
     "output_type": "stream",
     "text": [
      "enter l = 10\n",
      "enter b = 5\n",
      "enter h = 2\n",
      "50\n",
      "100\n"
     ]
    }
   ],
   "source": [
    "class Cal:\n",
    "    def __init__(self):\n",
    "        self.l=int(input('enter l = '))\n",
    "        self.b=int(input('enter b = '))\n",
    "        self.h=int(input('enter h = '))\n",
    "   \n",
    "    def area(self):\n",
    "        print(self.l*self.b)\n",
    "    def volume(self):\n",
    "        print(self.l*self.b*self.h)\n",
    "obj=Cal()\n",
    "obj.area()\n",
    "obj.volume()"
   ]
  },
  {
   "cell_type": "code",
   "execution_count": 20,
   "id": "faa17ce4",
   "metadata": {},
   "outputs": [
    {
     "name": "stdout",
     "output_type": "stream",
     "text": [
      "enter l = 10\n",
      "enter b = 5\n",
      "enter h = 2\n",
      "50\n",
      "100\n"
     ]
    }
   ],
   "source": [
    "class Cal:\n",
    "    def __init__(self,l,b,h):\n",
    "        self.l=l\n",
    "        self.b=b\n",
    "        self.h=h\n",
    "   \n",
    "    def area(self):\n",
    "        print(self.l*self.b)\n",
    "    def volume(self):\n",
    "        print(self.l*self.b*self.h)\n",
    "l=int(input('enter l = '))\n",
    "b=int(input('enter b = '))\n",
    "h=int(input('enter h = '))\n",
    "obj=Cal(l,b,h)\n",
    "obj.area()\n",
    "obj.volume()"
   ]
  },
  {
   "cell_type": "code",
   "execution_count": 21,
   "id": "55811f76",
   "metadata": {},
   "outputs": [
    {
     "name": "stdout",
     "output_type": "stream",
     "text": [
      "50\n",
      "100\n",
      "44\n",
      "132\n"
     ]
    }
   ],
   "source": [
    "class Cal:\n",
    "    def __init__(self,l,b,h):\n",
    "        self.l=l\n",
    "        self.b=b\n",
    "        self.h=h\n",
    "   \n",
    "    def area(self):\n",
    "        print(self.l*self.b)\n",
    "    def volume(self):\n",
    "        print(self.l*self.b*self.h)\n",
    "\n",
    "obj=Cal(10,5,2)\n",
    "obj.area()\n",
    "obj.volume()\n",
    "\n",
    "obj1=Cal(11,4,3)\n",
    "obj1.area()\n",
    "obj1.volume()\n"
   ]
  },
  {
   "cell_type": "code",
   "execution_count": 22,
   "id": "e0730721",
   "metadata": {},
   "outputs": [
    {
     "name": "stdout",
     "output_type": "stream",
     "text": [
      "50\n",
      "150\n"
     ]
    }
   ],
   "source": [
    "class Area:\n",
    "    def __init__(self,l,b):\n",
    "        self.l=l\n",
    "        self.b=b\n",
    "    def area(self):\n",
    "        a=self.l*self.b\n",
    "        print(a)\n",
    "class Volume:\n",
    "    def __init__(self,l,b,h):\n",
    "        self.l=l\n",
    "        self.b=b\n",
    "        self.h=h\n",
    "    def volume(self):\n",
    "        v=self.l*self.b*self.h\n",
    "        print(v)\n",
    "        \n",
    "obj1=Area(10,5)\n",
    "obj1.area()\n",
    "\n",
    "obj2=Volume(10,5,3)\n",
    "obj2.volume()\n",
    "        \n",
    "   \n",
    "        \n",
    "        "
   ]
  },
  {
   "cell_type": "code",
   "execution_count": 1,
   "id": "dd43b682",
   "metadata": {},
   "outputs": [],
   "source": [
    "# WAP to make a data entry application using oop.\n",
    "# WAP to read and write data in using csv and pandas using oop."
   ]
  },
  {
   "cell_type": "code",
   "execution_count": 5,
   "id": "904781a6",
   "metadata": {},
   "outputs": [
    {
     "name": "stdout",
     "output_type": "stream",
     "text": [
      "Ram\n",
      "<class '__main__.Information'>\n"
     ]
    }
   ],
   "source": [
    "class Information:\n",
    "    def __init__(self,name,age,add):\n",
    "        self.name = name\n",
    "        self.age = age\n",
    "        self.add = add\n",
    "    def __str__(self): ##str ma string datatype bhako object return garne\n",
    "        return self.name\n",
    "obj = Information('Ram',34,'Kathmandu')\n",
    "print(obj) #(obj+'shaym') no concat cuz its a obj not string\n",
    "print(type(obj)) "
   ]
  },
  {
   "cell_type": "code",
   "execution_count": 2,
   "id": "ca171474",
   "metadata": {},
   "outputs": [
    {
     "name": "stdout",
     "output_type": "stream",
     "text": [
      "Ram 34\n",
      "<class '__main__.Information'>\n",
      "Ramtree\n"
     ]
    }
   ],
   "source": [
    "class Information:\n",
    "    def __init__(self,name,age,add):\n",
    "        self.name = name\n",
    "        self.age = age\n",
    "        self.add = add\n",
    "    def hello(self):# string return garcha\n",
    "        return self.name\n",
    "    def __str__(self): \n",
    "        return f'{self.name} {self.age}'\n",
    "obj = Information('Ram',34,'Kathmandu')\n",
    "print(obj) #calls __str__function\n",
    "print(type(obj)) \n",
    "print(obj.hello()+'tree')"
   ]
  },
  {
   "cell_type": "code",
   "execution_count": 9,
   "id": "55ed5033",
   "metadata": {},
   "outputs": [
    {
     "name": "stdout",
     "output_type": "stream",
     "text": [
      "Ram 34 Kathmandu\n",
      "Ram 34 Kathmandu\n",
      "Ram 34 Kathmandu\n"
     ]
    }
   ],
   "source": [
    "class Information:\n",
    "    def __init__(self,name,age,add):\n",
    "        self.name = name\n",
    "        self.age = age\n",
    "        self.add = add\n",
    "    def __str__(self): \n",
    "        return f'{self.name} {self.age} {self.add}'\n",
    "obj = Information('Ram',34,'Kathmandu')\n",
    "print(obj) \n",
    "print(obj.__str__()) \n",
    "print(str(obj))\n",
    " "
   ]
  },
  {
   "cell_type": "code",
   "execution_count": 3,
   "id": "33a29472",
   "metadata": {},
   "outputs": [
    {
     "ename": "TypeError",
     "evalue": "unsupported operand type(s) for +: 'Point' and 'Point'",
     "output_type": "error",
     "traceback": [
      "\u001b[1;31m---------------------------------------------------------------------------\u001b[0m",
      "\u001b[1;31mTypeError\u001b[0m                                 Traceback (most recent call last)",
      "\u001b[1;32m~\\AppData\\Local\\Temp/ipykernel_12980/1206228023.py\u001b[0m in \u001b[0;36m<module>\u001b[1;34m\u001b[0m\n\u001b[0;32m      5\u001b[0m \u001b[0mp1\u001b[0m \u001b[1;33m=\u001b[0m \u001b[0mPoint\u001b[0m\u001b[1;33m(\u001b[0m\u001b[1;36m2\u001b[0m\u001b[1;33m)\u001b[0m\u001b[1;33m\u001b[0m\u001b[1;33m\u001b[0m\u001b[0m\n\u001b[0;32m      6\u001b[0m \u001b[0mp2\u001b[0m \u001b[1;33m=\u001b[0m \u001b[0mPoint\u001b[0m\u001b[1;33m(\u001b[0m\u001b[1;36m3\u001b[0m\u001b[1;33m)\u001b[0m\u001b[1;33m\u001b[0m\u001b[1;33m\u001b[0m\u001b[0m\n\u001b[1;32m----> 7\u001b[1;33m \u001b[0mp1\u001b[0m\u001b[1;33m+\u001b[0m\u001b[0mp2\u001b[0m\u001b[1;33m\u001b[0m\u001b[1;33m\u001b[0m\u001b[0m\n\u001b[0m\u001b[0;32m      8\u001b[0m \u001b[1;33m\u001b[0m\u001b[0m\n",
      "\u001b[1;31mTypeError\u001b[0m: unsupported operand type(s) for +: 'Point' and 'Point'"
     ]
    }
   ],
   "source": [
    "#operator overloading\n",
    "class Point:\n",
    "    def __init__(self,x):\n",
    "        self.x = x\n",
    "p1 = Point(2)\n",
    "p2 = Point(3)\n",
    "p1+p2\n",
    "    "
   ]
  },
  {
   "cell_type": "code",
   "execution_count": 13,
   "id": "a2928957",
   "metadata": {},
   "outputs": [
    {
     "name": "stdout",
     "output_type": "stream",
     "text": [
      "5 9\n"
     ]
    }
   ],
   "source": [
    "class Point:\n",
    "    def __init__(self,x,y):\n",
    "        self.x = x\n",
    "        self.y = y\n",
    "    def __str__(self):\n",
    "        return f'{self.x} {self.y}'\n",
    "        \n",
    "    def __add__(self,other):\n",
    "        x=self.x+other.x\n",
    "        y=self.y+other.y\n",
    "        return Point(x,y)\n",
    "        \n",
    "        \n",
    "        \n",
    "p1 = Point(2,4)  # self instance le represent garcha (a,b)----self.x,self.y\n",
    "p2 = Point(3,5)  #other instance le represent garcha\n",
    "print(p1+p2)     # (p1+p2) calls __add__ function---print garda it calls __str__function\n",
    "\n",
    "\n",
    "#print bhako value is object\n",
    "    "
   ]
  },
  {
   "cell_type": "code",
   "execution_count": 18,
   "id": "ab203d3f",
   "metadata": {},
   "outputs": [
    {
     "name": "stdout",
     "output_type": "stream",
     "text": [
      "this is init function 1000\n",
      "this is init function 2000\n",
      "this is add function 3000\n",
      "this is init function 3000\n",
      "this is str function 3000\n",
      "3000\n"
     ]
    }
   ],
   "source": [
    "class Ecommerce:\n",
    "    def __init__(self,price):\n",
    "        self.price = price\n",
    "        print('this is init function',self.price)\n",
    "    def __str__(self):\n",
    "        \n",
    "        print('this is str function',self.price)\n",
    "        return str(self.price) #integer return garna mildaina so string banako\n",
    "    def __add__(self,other):\n",
    "        s=self.price+other.price\n",
    "        print('this is add function',s)\n",
    "        return Ecommerce(s)\n",
    "p1 = Ecommerce(1000)\n",
    "p2 = Ecommerce(2000)\n",
    "\n",
    "print(p1+p2)#print garda object bhayera __str__ call huncha ani object print huncha\n"
   ]
  },
  {
   "cell_type": "code",
   "execution_count": 20,
   "id": "fadd9e5d",
   "metadata": {},
   "outputs": [
    {
     "name": "stdout",
     "output_type": "stream",
     "text": [
      "this is init function 1000\n",
      "this is init function 2000\n",
      "this is init function 3000\n",
      "this is add function 3000\n",
      "this is init function 3000\n",
      "this is add function 6000\n",
      "this is init function 6000\n",
      "this is str function 6000\n",
      "6000\n"
     ]
    }
   ],
   "source": [
    "class Ecommerce:\n",
    "    def __init__(self,price):\n",
    "        self.price = price\n",
    "        print('this is init function',self.price)\n",
    "    def __str__(self):\n",
    "        \n",
    "        print('this is str function',self.price)\n",
    "        return str(self.price) \n",
    "    def __add__(self,other):\n",
    "        s=self.price+other.price\n",
    "        print('this is add function',s)\n",
    "        return Ecommerce(s)\n",
    "p1 = Ecommerce(1000)\n",
    "p2 = Ecommerce(2000)\n",
    "p3 = Ecommerce(3000)\n",
    "\n",
    "print(p1+p2+p3)\n",
    "\n",
    "#loop aafai chalcha\n",
    "# first ma self=p1 other=p2\n",
    "# second ma self=p1+p2 other=p3"
   ]
  },
  {
   "cell_type": "code",
   "execution_count": null,
   "id": "6a5d1067",
   "metadata": {},
   "outputs": [],
   "source": []
  }
 ],
 "metadata": {
  "kernelspec": {
   "display_name": "Python 3 (ipykernel)",
   "language": "python",
   "name": "python3"
  },
  "language_info": {
   "codemirror_mode": {
    "name": "ipython",
    "version": 3
   },
   "file_extension": ".py",
   "mimetype": "text/x-python",
   "name": "python",
   "nbconvert_exporter": "python",
   "pygments_lexer": "ipython3",
   "version": "3.9.7"
  }
 },
 "nbformat": 4,
 "nbformat_minor": 5
}
