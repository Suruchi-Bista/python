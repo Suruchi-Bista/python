{
 "cells": [
  {
   "cell_type": "code",
   "execution_count": 2,
   "id": "06cee5cf",
   "metadata": {},
   "outputs": [
    {
     "name": "stdout",
     "output_type": "stream",
     "text": [
      "hello\n",
      "<class 'str'>\n"
     ]
    }
   ],
   "source": [
    "a=\"hello\"\n",
    "print(a)\n",
    "print(type(a))"
   ]
  },
  {
   "cell_type": "code",
   "execution_count": 3,
   "id": "0673bab7",
   "metadata": {},
   "outputs": [
    {
     "name": "stdout",
     "output_type": "stream",
     "text": [
      "hello world\n"
     ]
    }
   ],
   "source": [
    "# string comcatination\n",
    "a=\"hello \"\n",
    "b='world'\n",
    "print(a+b)"
   ]
  },
  {
   "cell_type": "code",
   "execution_count": 4,
   "id": "98fb4d1c",
   "metadata": {},
   "outputs": [
    {
     "name": "stdout",
     "output_type": "stream",
     "text": [
      "hello\n",
      "hello\n",
      "\n"
     ]
    }
   ],
   "source": [
    "#string enlargement\n",
    "a='hello\\n'\n",
    "print(a*2)"
   ]
  },
  {
   "cell_type": "code",
   "execution_count": 5,
   "id": "cc43b812",
   "metadata": {},
   "outputs": [
    {
     "name": "stdout",
     "output_type": "stream",
     "text": [
      "h\n"
     ]
    }
   ],
   "source": [
    "#string slicing\n",
    "a='hello world'\n",
    "print(a[0])"
   ]
  },
  {
   "cell_type": "code",
   "execution_count": 8,
   "id": "88b610a9",
   "metadata": {},
   "outputs": [
    {
     "name": "stdout",
     "output_type": "stream",
     "text": [
      "hello wo\n"
     ]
    }
   ],
   "source": [
    "a='hello world'\n",
    "print(a[0:8])"
   ]
  },
  {
   "cell_type": "code",
   "execution_count": 9,
   "id": "be8cc5c2",
   "metadata": {},
   "outputs": [
    {
     "name": "stdout",
     "output_type": "stream",
     "text": [
      "hlowr\n"
     ]
    }
   ],
   "source": [
    "a='hello world'\n",
    "print(a[0:10:2])#increment by 2"
   ]
  },
  {
   "cell_type": "code",
   "execution_count": 10,
   "id": "35ef6889",
   "metadata": {},
   "outputs": [
    {
     "name": "stdout",
     "output_type": "stream",
     "text": [
      "hello\n",
      " world\n"
     ]
    }
   ],
   "source": [
    "a='hello world'\n",
    "b=a[0:5]\n",
    "c=a[5:]#every thing after 5th position\n",
    "print(b)\n",
    "print(c)"
   ]
  },
  {
   "cell_type": "code",
   "execution_count": 16,
   "id": "bd1e0426",
   "metadata": {},
   "outputs": [
    {
     "name": "stdout",
     "output_type": "stream",
     "text": [
      "dlrow olleh\n"
     ]
    }
   ],
   "source": [
    "a='hello world'\n",
    "l=len(a)\n",
    "print(a[l::-1])"
   ]
  },
  {
   "cell_type": "code",
   "execution_count": 19,
   "id": "215ba5c9",
   "metadata": {},
   "outputs": [
    {
     "name": "stdout",
     "output_type": "stream",
     "text": [
      "dlrow olleh\n"
     ]
    }
   ],
   "source": [
    "a='hello world'\n",
    "print(a[100::-1])"
   ]
  },
  {
   "cell_type": "code",
   "execution_count": 18,
   "id": "c34c405f",
   "metadata": {},
   "outputs": [
    {
     "name": "stdout",
     "output_type": "stream",
     "text": [
      "h\n",
      "d\n"
     ]
    }
   ],
   "source": [
    "a='hello world'\n",
    "print(a[0])\n",
    "print(a[-1])"
   ]
  },
  {
   "cell_type": "code",
   "execution_count": 30,
   "id": "a9a1410f",
   "metadata": {},
   "outputs": [
    {
     "name": "stdout",
     "output_type": "stream",
     "text": [
      "enter name sd\n",
      "enter age 23\n",
      "enter address fg\n",
      "I am sd. I am from fg. I am 23 years old.\n"
     ]
    }
   ],
   "source": [
    "#string formatting\n",
    "name=input(\"enter name \")\n",
    "age=int(input(\"enter age \"))\n",
    "add=input(\"enter address \")\n",
    "infoo=f\"I am {name}. I am from {add}. I am {age} years old.\" \n",
    "#info=f\"{name}\\n {age}\\n {add}\\n\"\n",
    "print(infoo)"
   ]
  },
  {
   "cell_type": "code",
   "execution_count": 45,
   "id": "f876cccb",
   "metadata": {},
   "outputs": [
    {
     "name": "stdout",
     "output_type": "stream",
     "text": [
      "enter n 2\n",
      "enter name manh\n",
      "enter age 34\n",
      "enter name ad\n",
      "enter age 54\n",
      "manh 34\n",
      "ad 54\n",
      "\n"
     ]
    }
   ],
   "source": [
    "s=str()\n",
    "n=int(input(\"enter n \"))\n",
    "for i in range(n):\n",
    "    name=input(\"enter name \")\n",
    "    age=int(input(\"enter age \"))\n",
    "    info=f\"{name} {age}\\n\"\n",
    "    s=s+info\n",
    "print(s)"
   ]
  },
  {
   "cell_type": "code",
   "execution_count": 38,
   "id": "98d00caf",
   "metadata": {},
   "outputs": [
    {
     "name": "stdout",
     "output_type": "stream",
     "text": [
      "enter name ShYaM\n",
      "yes\n",
      "1\n"
     ]
    }
   ],
   "source": [
    "a=\"Ram Shyam hari Gita Ram\".lower()\n",
    "name=input(\"enter name \").lower()\n",
    "if name in a:\n",
    "    print('yes')\n",
    "    print(a.count(name))\n"
   ]
  },
  {
   "cell_type": "code",
   "execution_count": 37,
   "id": "2ec66f93",
   "metadata": {},
   "outputs": [
    {
     "name": "stdout",
     "output_type": "stream",
     "text": [
      "RAM SHYAM HARI GITA RAM\n",
      "ram shyam hari gita ram\n"
     ]
    }
   ],
   "source": [
    "a=\"Ram Shyam hari Gita Ram\"\n",
    "print(a.upper())\n",
    "print(a.lower())"
   ]
  },
  {
   "cell_type": "code",
   "execution_count": 49,
   "id": "d2dc41dc",
   "metadata": {},
   "outputs": [
    {
     "name": "stdout",
     "output_type": "stream",
     "text": [
      "Ram Shyam Hari Gita Ram\n"
     ]
    }
   ],
   "source": [
    "a=\"Ram Shyam hari gita Ram\"\n",
    "print(a.title())#first letter after space is uppercased\n"
   ]
  },
  {
   "cell_type": "code",
   "execution_count": 43,
   "id": "2b0be5d7",
   "metadata": {},
   "outputs": [
    {
     "name": "stdout",
     "output_type": "stream",
     "text": [
      "Ram Shyam hari Gita Ram\n"
     ]
    }
   ],
   "source": [
    "#string is immutable data type-->is not updated in itself--->to update a in itself a=a.upper()\n",
    "a=\"Ram Shyam hari Gita Ram\"\n",
    "a.upper()\n",
    "print(a)"
   ]
  },
  {
   "cell_type": "code",
   "execution_count": 44,
   "id": "8e9846cc",
   "metadata": {},
   "outputs": [
    {
     "name": "stdout",
     "output_type": "stream",
     "text": [
      "RAM SHYAM HARI GITA RAM\n"
     ]
    }
   ],
   "source": [
    "a=\"Ram Shyam hari Gita Ram\"\n",
    "a=a.upper()\n",
    "print(a)"
   ]
  },
  {
   "cell_type": "code",
   "execution_count": 47,
   "id": "5fa6d735",
   "metadata": {},
   "outputs": [
    {
     "name": "stdout",
     "output_type": "stream",
     "text": [
      "RAM Shyam hari Gita RAM\n"
     ]
    }
   ],
   "source": [
    "a=\"Ram Shyam hari Gita Ram\"#to replace ram of particular position only array is used\n",
    "a=a.replace('Ram','RAM')\n",
    "print(a)"
   ]
  },
  {
   "cell_type": "code",
   "execution_count": 48,
   "id": "49625e62",
   "metadata": {},
   "outputs": [
    {
     "name": "stdout",
     "output_type": "stream",
     "text": [
      " Shyam hari Gita \n"
     ]
    }
   ],
   "source": [
    "a=\"Ram Shyam hari Gita Ram\"\n",
    "a=a.replace('Ram','')\n",
    "print(a)"
   ]
  },
  {
   "cell_type": "code",
   "execution_count": null,
   "id": "a82cff98",
   "metadata": {},
   "outputs": [],
   "source": [
    "#WAP to develop a billing application using string and loop\n",
    "#name\n",
    "#price\n",
    "#quantity\n",
    "#total\n",
    "\n",
    "#grand_total"
   ]
  }
 ],
 "metadata": {
  "kernelspec": {
   "display_name": "Python 3 (ipykernel)",
   "language": "python",
   "name": "python3"
  },
  "language_info": {
   "codemirror_mode": {
    "name": "ipython",
    "version": 3
   },
   "file_extension": ".py",
   "mimetype": "text/x-python",
   "name": "python",
   "nbconvert_exporter": "python",
   "pygments_lexer": "ipython3",
   "version": "3.9.7"
  }
 },
 "nbformat": 4,
 "nbformat_minor": 5
}
