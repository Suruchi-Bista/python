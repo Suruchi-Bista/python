{
 "cells": [
  {
   "cell_type": "code",
   "execution_count": 1,
   "id": "a10d4b53",
   "metadata": {},
   "outputs": [],
   "source": [
    "#tuple\n",
    "# indexed\n",
    "# ordered\n",
    "# multiple and duplicate data\n",
    "# Imutable\n"
   ]
  },
  {
   "cell_type": "code",
   "execution_count": 6,
   "id": "f44ff2e8",
   "metadata": {},
   "outputs": [
    {
     "name": "stdout",
     "output_type": "stream",
     "text": [
      "(1, 2, 3, 4, 5)\n",
      "<class 'tuple'>\n"
     ]
    }
   ],
   "source": [
    "a=tuple()\n",
    "a=(1,2,3,4,5)\n",
    "print(a)\n",
    "print(type(a))"
   ]
  },
  {
   "cell_type": "code",
   "execution_count": 3,
   "id": "ff8a8181",
   "metadata": {},
   "outputs": [
    {
     "name": "stdout",
     "output_type": "stream",
     "text": [
      "<class 'int'>\n",
      "<class 'str'>\n"
     ]
    }
   ],
   "source": [
    "a=(1)\n",
    "b=('apple')\n",
    "print(type(a))\n",
    "print(type(b))"
   ]
  },
  {
   "cell_type": "code",
   "execution_count": 4,
   "id": "90b60f9c",
   "metadata": {},
   "outputs": [
    {
     "name": "stdout",
     "output_type": "stream",
     "text": [
      "<class 'tuple'>\n",
      "<class 'tuple'>\n"
     ]
    }
   ],
   "source": [
    "a=(1,)\n",
    "b=('apple',)# euta matra element huda , is compulsory \n",
    "print(type(a))\n",
    "print(type(b))"
   ]
  },
  {
   "cell_type": "code",
   "execution_count": 7,
   "id": "f42df4fd",
   "metadata": {},
   "outputs": [
    {
     "name": "stdout",
     "output_type": "stream",
     "text": [
      "apple\n",
      "('apple', 'ball', 'cat', 'dog')\n",
      "('apple', 'cat', 'fish', 'Zebra')\n"
     ]
    }
   ],
   "source": [
    "#indexed\n",
    "a=('apple','ball','cat','dog','fish','Xray','Zebra')\n",
    "print(a[0])\n",
    "print(a[0:4])\n",
    "print(a[0::2])"
   ]
  },
  {
   "cell_type": "code",
   "execution_count": 8,
   "id": "891046ac",
   "metadata": {},
   "outputs": [
    {
     "name": "stdout",
     "output_type": "stream",
     "text": [
      "('apple', 'ball', 'cat', 'dog', 'fish', 'Xray', 'Zebra', 'egg')\n"
     ]
    }
   ],
   "source": [
    "#orderd\n",
    "a=('apple','ball','cat','dog','fish','Xray','Zebra')\n",
    "b=('egg',)\n",
    "print(a+b)#concat"
   ]
  },
  {
   "cell_type": "code",
   "execution_count": 9,
   "id": "5284aa85",
   "metadata": {},
   "outputs": [
    {
     "name": "stdout",
     "output_type": "stream",
     "text": [
      "('apple', 'ball', 'cat', 'dog', 'fish', 'Xray', 'Zebra', 'apple', 'ball', 'cat', 'dog', 'fish', 'Xray', 'Zebra')\n"
     ]
    }
   ],
   "source": [
    "a=('apple','ball','cat','dog','fish','Xray','Zebra')\n",
    "print(a*2)#enlarge"
   ]
  },
  {
   "cell_type": "code",
   "execution_count": 10,
   "id": "e19362bd",
   "metadata": {},
   "outputs": [],
   "source": [
    "#immutable ----can't be updated\n",
    "# no append()  insert()  extend()\n",
    "# no del remove()  pop()\n"
   ]
  },
  {
   "cell_type": "code",
   "execution_count": 11,
   "id": "d00e4155",
   "metadata": {},
   "outputs": [
    {
     "name": "stdout",
     "output_type": "stream",
     "text": [
      "enter n = 2\n",
      "enter x = df\n"
     ]
    },
    {
     "ename": "TypeError",
     "evalue": "can only concatenate tuple (not \"str\") to tuple",
     "output_type": "error",
     "traceback": [
      "\u001b[1;31m---------------------------------------------------------------------------\u001b[0m",
      "\u001b[1;31mTypeError\u001b[0m                                 Traceback (most recent call last)",
      "\u001b[1;32m~\\AppData\\Local\\Temp/ipykernel_8376/2350656884.py\u001b[0m in \u001b[0;36m<module>\u001b[1;34m\u001b[0m\n\u001b[0;32m      3\u001b[0m \u001b[1;32mfor\u001b[0m \u001b[0mi\u001b[0m \u001b[1;32min\u001b[0m \u001b[0mrange\u001b[0m\u001b[1;33m(\u001b[0m\u001b[0mn\u001b[0m\u001b[1;33m)\u001b[0m\u001b[1;33m:\u001b[0m\u001b[1;33m\u001b[0m\u001b[1;33m\u001b[0m\u001b[0m\n\u001b[0;32m      4\u001b[0m     \u001b[0mx\u001b[0m\u001b[1;33m=\u001b[0m\u001b[0minput\u001b[0m\u001b[1;33m(\u001b[0m\u001b[1;34m'enter x = '\u001b[0m\u001b[1;33m)\u001b[0m\u001b[1;33m\u001b[0m\u001b[1;33m\u001b[0m\u001b[0m\n\u001b[1;32m----> 5\u001b[1;33m     \u001b[0mt\u001b[0m\u001b[1;33m=\u001b[0m\u001b[0mt\u001b[0m\u001b[1;33m+\u001b[0m\u001b[0mx\u001b[0m\u001b[1;33m\u001b[0m\u001b[1;33m\u001b[0m\u001b[0m\n\u001b[0m\u001b[0;32m      6\u001b[0m \u001b[0mprint\u001b[0m\u001b[1;33m(\u001b[0m\u001b[0mt\u001b[0m\u001b[1;33m)\u001b[0m\u001b[1;33m\u001b[0m\u001b[1;33m\u001b[0m\u001b[0m\n",
      "\u001b[1;31mTypeError\u001b[0m: can only concatenate tuple (not \"str\") to tuple"
     ]
    }
   ],
   "source": [
    "# wrong way\n",
    "t=tuple()\n",
    "n=int(input('enter n = '))\n",
    "for i in range(n):\n",
    "    x=input('enter x = ')\n",
    "    t=t+x # t=t+tuple()\n",
    "print(t)"
   ]
  },
  {
   "cell_type": "code",
   "execution_count": 12,
   "id": "08e8729c",
   "metadata": {},
   "outputs": [
    {
     "name": "stdout",
     "output_type": "stream",
     "text": [
      "enter n = 2\n",
      "enter x = apple\n",
      "enter x = ball\n",
      "('apple', 'ball')\n"
     ]
    }
   ],
   "source": [
    "# correct way\n",
    "t=tuple()\n",
    "n=int(input('enter n = '))\n",
    "for i in range(n):\n",
    "    x=input('enter x = ')\n",
    "    t=t+(x,)\n",
    "print(t)"
   ]
  },
  {
   "cell_type": "code",
   "execution_count": 13,
   "id": "fcd822c4",
   "metadata": {},
   "outputs": [
    {
     "data": {
      "text/plain": [
       "(10, 12)"
      ]
     },
     "execution_count": 13,
     "metadata": {},
     "output_type": "execute_result"
    }
   ],
   "source": [
    "def cal():\n",
    "    a=10\n",
    "    b=12\n",
    "    return a,b\n",
    "cal()\n",
    "# tuple value is printed as it cant be edited\n"
   ]
  },
  {
   "cell_type": "code",
   "execution_count": 14,
   "id": "172b47ef",
   "metadata": {},
   "outputs": [
    {
     "name": "stdout",
     "output_type": "stream",
     "text": [
      "(10, 11, 12, 13)\n"
     ]
    }
   ],
   "source": [
    "a=10,11,12,13\n",
    "print(a)\n",
    "# tuple data is printed and not list as it cant be edited\n"
   ]
  },
  {
   "cell_type": "code",
   "execution_count": 18,
   "id": "65bd89a8",
   "metadata": {},
   "outputs": [
    {
     "name": "stdout",
     "output_type": "stream",
     "text": [
      "['apple', 'ball', 'cat', 'dog', 'fish', 'Xray', 'Zebra']\n",
      "('ball', 'cat', 'dog', 'fish', 'Xray', 'Zebra')\n"
     ]
    }
   ],
   "source": [
    "a=('apple','ball','cat','dog','fish','Xray','Zebra')\n",
    "b=list(a)\n",
    "print(b)\n",
    "del b[0]\n",
    "a=tuple(b)\n",
    "print(a)"
   ]
  },
  {
   "cell_type": "code",
   "execution_count": 22,
   "id": "94e71f3b",
   "metadata": {},
   "outputs": [
    {
     "name": "stdout",
     "output_type": "stream",
     "text": [
      "(('ram', 2, 'ktm'), ('hari', 32, 'patan'), ('shyam', 21, 'bhaktapur'))\n"
     ]
    }
   ],
   "source": [
    "# tuple inside tuple\n",
    "a=(('ram',2,'ktm'),\n",
    "   ('hari',32,'patan'),\n",
    "  ('shyam',21,'bhaktapur'))\n",
    "print(a)"
   ]
  },
  {
   "cell_type": "code",
   "execution_count": 23,
   "id": "7f3a8722",
   "metadata": {},
   "outputs": [
    {
     "name": "stdout",
     "output_type": "stream",
     "text": [
      "(('ram', 2, 'ktm'), ('hari', 32, 'patan'), ('shyam', 21, 'bhaktapur'), 'nabon', 45, 'lalitpur')\n"
     ]
    }
   ],
   "source": [
    "# wrong way\n",
    "a=(('ram',2,'ktm'),\n",
    "   ('hari',32,'patan'),\n",
    "  ('shyam',21,'bhaktapur'))\n",
    "b=('nabon',45,'lalitpur')\n",
    "print(a+b)"
   ]
  },
  {
   "cell_type": "code",
   "execution_count": 24,
   "id": "87599b83",
   "metadata": {},
   "outputs": [
    {
     "name": "stdout",
     "output_type": "stream",
     "text": [
      "(('ram', 2, 'ktm'), ('hari', 32, 'patan'), ('shyam', 21, 'bhaktapur'), ('nabon', 45, 'lalitpur'))\n"
     ]
    }
   ],
   "source": [
    "# correct way\n",
    "a=(('ram',2,'ktm'),\n",
    "   ('hari',32,'patan'),\n",
    "  ('shyam',21,'bhaktapur'))\n",
    "b=(('nabon',45,'lalitpur'),)\n",
    "print(a+b)"
   ]
  },
  {
   "cell_type": "code",
   "execution_count": 1,
   "id": "e802f407",
   "metadata": {},
   "outputs": [
    {
     "name": "stdout",
     "output_type": "stream",
     "text": [
      "enter n = 2\n",
      "enter name = ram\n",
      "enter age = 32\n",
      "enter address = ktm\n",
      "enter name = shyam\n",
      "enter age = 23\n",
      "enter address = patan\n",
      "(('ram', 32, 'ktm'), ('shyam', 23, 'patan'))\n"
     ]
    }
   ],
   "source": [
    "# WAP to input tuple inside tuple\n",
    "t=tuple()\n",
    "n=int(input('enter n = '))\n",
    "for i in range(n):\n",
    "    name=input('enter name = ')\n",
    "    age=int(input('enter age = '))\n",
    "    add=input('enter address = ')\n",
    "    data=(name,age,add)\n",
    "    b=list(t)\n",
    "    b.append(data)\n",
    "    t=tuple(b)\n",
    "print(t)"
   ]
  },
  {
   "cell_type": "code",
   "execution_count": 33,
   "id": "19a840fd",
   "metadata": {},
   "outputs": [
    {
     "name": "stdout",
     "output_type": "stream",
     "text": [
      "[('ram', 2, 'ktm'), ('hari', 32, 'patan'), ('shyam', 21, 'bhaktapur')]\n",
      "[('hari', 32, 'patan'), ('shyam', 21, 'bhaktapur')]\n"
     ]
    }
   ],
   "source": [
    "a=(('ram',2,'ktm'),\n",
    "   ('hari',32,'patan'),\n",
    "  ('shyam',21,'bhaktapur'))\n",
    "b=list(a)\n",
    "print(b)\n",
    "del b[0]\n",
    "print(b)\n",
    "# elements inside tuples can't be updated "
   ]
  },
  {
   "cell_type": "code",
   "execution_count": null,
   "id": "13f4b4ce",
   "metadata": {},
   "outputs": [],
   "source": []
  },
  {
   "cell_type": "code",
   "execution_count": 34,
   "id": "d176b53e",
   "metadata": {},
   "outputs": [
    {
     "name": "stdout",
     "output_type": "stream",
     "text": [
      "[('hari', 32, 'patan'), ('shyam', 21, 'bhaktapur'), ('nabin', 56, 'palpa')]\n"
     ]
    }
   ],
   "source": [
    "b.append(('nabin',56,'palpa'))\n",
    "print(b)"
   ]
  },
  {
   "cell_type": "code",
   "execution_count": 2,
   "id": "4736fa17",
   "metadata": {},
   "outputs": [
    {
     "name": "stdout",
     "output_type": "stream",
     "text": [
      "enter n = 2\n",
      "enter name = ram\n",
      "enter age = 23\n",
      "enter address = ktm\n",
      "enter name = sita\n",
      "enter age = 45\n",
      "enter address = patan\n",
      "(['ram', 23, 'ktm'], ['sita', 45, 'patan'])\n"
     ]
    }
   ],
   "source": [
    "\n",
    "#WAP to perform CRUD list inside tuple ([],[],[])\n",
    "t=tuple()\n",
    "n=int(input('enter n = '))\n",
    "for i in range(n):\n",
    "    name=input('enter name = ')\n",
    "    age=int(input('enter age = '))\n",
    "    add=input('enter address = ')\n",
    "    data=[name,age,add]\n",
    "    b=list(t)\n",
    "    b.append(data)\n",
    "    t=tuple(b)\n",
    "print(t)"
   ]
  },
  {
   "cell_type": "code",
   "execution_count": 3,
   "id": "a33a5b60",
   "metadata": {},
   "outputs": [],
   "source": [
    "#WAP to convert tuple inside tuple to list inside list and vice versa ((),(),())-------[[],[],[]]\n",
    "a=(('ram', 2, 'ktm'), ('hari', 32, 'patan'), ('shyam', 21, 'bhaktapur'), ('nabon', 45, 'lalitpur'))\n"
   ]
  },
  {
   "cell_type": "code",
   "execution_count": 11,
   "id": "228a9686",
   "metadata": {},
   "outputs": [
    {
     "name": "stdout",
     "output_type": "stream",
     "text": [
      "[[4, 1, 9], [2, 6, 8], [5, 9, 1]]\n",
      "((4, 1, 9), (2, 6, 8), (5, 9, 1))\n"
     ]
    }
   ],
   "source": [
    "a= [[4, 1, 9], [2, 6, 8], [5, 9, 1]]\n",
    "print(a)\n",
    "t= tuple(tuple(data) for data in a)\n",
    "print(t)\n"
   ]
  },
  {
   "cell_type": "code",
   "execution_count": 12,
   "id": "731f294e",
   "metadata": {},
   "outputs": [
    {
     "name": "stdout",
     "output_type": "stream",
     "text": [
      "[[4, 1, 9], [2, 6, 8], [5, 9, 1]]\n",
      "((4, 1, 9), (2, 6, 8), (5, 9, 1))\n"
     ]
    }
   ],
   "source": [
    "a = [[4, 1, 9], [2, 6, 8], [5, 9, 1]]\n",
    "print(a)\n",
    "t = tuple(map(tuple,a))\n",
    "print(t)"
   ]
  },
  {
   "cell_type": "code",
   "execution_count": null,
   "id": "de5a2d01",
   "metadata": {},
   "outputs": [],
   "source": []
  }
 ],
 "metadata": {
  "kernelspec": {
   "display_name": "Python 3 (ipykernel)",
   "language": "python",
   "name": "python3"
  },
  "language_info": {
   "codemirror_mode": {
    "name": "ipython",
    "version": 3
   },
   "file_extension": ".py",
   "mimetype": "text/x-python",
   "name": "python",
   "nbconvert_exporter": "python",
   "pygments_lexer": "ipython3",
   "version": "3.9.7"
  }
 },
 "nbformat": 4,
 "nbformat_minor": 5
}
