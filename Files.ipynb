{
 "cells": [
  {
   "cell_type": "code",
   "execution_count": 1,
   "id": "f7594736",
   "metadata": {},
   "outputs": [],
   "source": [
    "#open(<file_name>,modes)\n",
    "# modes\n",
    "# x--create\n",
    "# r--read\n",
    "# w--write\n",
    "# a--append"
   ]
  },
  {
   "cell_type": "code",
   "execution_count": 6,
   "id": "116b28a8",
   "metadata": {},
   "outputs": [
    {
     "name": "stdout",
     "output_type": "stream",
     "text": [
      " this file already exists\n"
     ]
    }
   ],
   "source": [
    "try:\n",
    "    b=open('data.txt','x')\n",
    "    b.close()\n",
    "except:\n",
    "    print(\" this file already exists\")"
   ]
  },
  {
   "cell_type": "code",
   "execution_count": 3,
   "id": "8a70ca91",
   "metadata": {},
   "outputs": [
    {
     "data": {
      "text/plain": [
       "'C:\\\\Users\\\\Arjun\\\\Untitled Folder'"
      ]
     },
     "execution_count": 3,
     "metadata": {},
     "output_type": "execute_result"
    }
   ],
   "source": [
    "pwd"
   ]
  },
  {
   "cell_type": "code",
   "execution_count": 12,
   "id": "a88318f2",
   "metadata": {},
   "outputs": [
    {
     "name": "stdout",
     "output_type": "stream",
     "text": [
      "1.Hello World\n",
      "2.Hello World\n",
      "3.Hello World\n",
      "4.Hello World\n",
      "5.Hello World\n",
      "6.Hello World\n",
      "7.Hello World\n",
      "8.Hello World\n"
     ]
    }
   ],
   "source": [
    "b=open('data.txt','r')\n",
    "print(b.read())\n",
    "b.close()"
   ]
  },
  {
   "cell_type": "code",
   "execution_count": 14,
   "id": "1ca13b83",
   "metadata": {},
   "outputs": [
    {
     "name": "stdout",
     "output_type": "stream",
     "text": [
      "1.Hello World\n",
      "2.Hello World\n",
      "3.Hello World\n",
      "4.Hello World\n",
      "5.Hello World\n",
      "6.Hello World\n",
      "7.Hello World\n",
      "8.Hello World\n"
     ]
    }
   ],
   "source": [
    "with open('data.txt','r') as b:\n",
    "    print(b.read())\n",
    "b.close()"
   ]
  },
  {
   "cell_type": "code",
   "execution_count": 15,
   "id": "3c362328",
   "metadata": {},
   "outputs": [
    {
     "name": "stdout",
     "output_type": "stream",
     "text": [
      "1.Hello World\n",
      "2.Hello World\n",
      "3.Hello World\n",
      "4.Hello World\n",
      "5.Hello World\n",
      "6.Hello World\n",
      "7.Hello World\n",
      "8.Hello World\n"
     ]
    }
   ],
   "source": [
    "with open('data.txt','r') as b:\n",
    "    print(b.read())"
   ]
  },
  {
   "cell_type": "code",
   "execution_count": 16,
   "id": "5a812dcd",
   "metadata": {},
   "outputs": [
    {
     "name": "stdout",
     "output_type": "stream",
     "text": [
      "<class 'str'>\n",
      "1.Hello World\n",
      "2.Hello World\n",
      "3.Hello World\n",
      "4.Hello World\n",
      "5.Hello World\n",
      "6.Hello World\n",
      "7.Hello World\n",
      "8.Hello World\n"
     ]
    }
   ],
   "source": [
    "b=open('data.txt','r')\n",
    "x=b.read()\n",
    "print(type(x))\n",
    "print(x)\n",
    "b.close()"
   ]
  },
  {
   "cell_type": "code",
   "execution_count": 28,
   "id": "f51b5a8f",
   "metadata": {},
   "outputs": [
    {
     "name": "stdout",
     "output_type": "stream",
     "text": [
      "['1.Hello World', '2.Hello World', '3.Hello World', '4.Hello World', '5.Hello World', '6.Hello World', '7.Hello World', '8.Hello World']\n"
     ]
    }
   ],
   "source": [
    "b=open('data.txt','r')\n",
    "x=b.read().split('\\n')\n",
    "print(x)\n",
    "b.close()"
   ]
  },
  {
   "cell_type": "code",
   "execution_count": 29,
   "id": "2c1bf24d",
   "metadata": {},
   "outputs": [
    {
     "name": "stdout",
     "output_type": "stream",
     "text": [
      "2.Hello World\n"
     ]
    }
   ],
   "source": [
    "print(x[1])"
   ]
  },
  {
   "cell_type": "code",
   "execution_count": 30,
   "id": "283603b6",
   "metadata": {},
   "outputs": [
    {
     "name": "stdout",
     "output_type": "stream",
     "text": [
      "enter line no = 4\n",
      "4.Hello World\n"
     ]
    }
   ],
   "source": [
    "line_no=int(input('enter line no = '))\n",
    "print(x[line_no-1])"
   ]
  },
  {
   "cell_type": "code",
   "execution_count": 31,
   "id": "9f247b58",
   "metadata": {},
   "outputs": [
    {
     "name": "stdout",
     "output_type": "stream",
     "text": [
      "['1.Hello World', '2.Hello World', '3.Hello World', '4.Hello World', '5.Hello World', '6.Hello World', '7.Hello World', '8.Hello World']\n"
     ]
    }
   ],
   "source": [
    "b=open('data.txt','r')\n",
    "x=b.read()\n",
    "print(x.split('\\n'))\n",
    "b.close()"
   ]
  },
  {
   "cell_type": "code",
   "execution_count": 20,
   "id": "aa76a9cc",
   "metadata": {},
   "outputs": [
    {
     "data": {
      "text/plain": [
       "['apple', 'ball', 'cat', 'dog']"
      ]
     },
     "execution_count": 20,
     "metadata": {},
     "output_type": "execute_result"
    }
   ],
   "source": [
    "a='apple ball cat dog'\n",
    "a.split()"
   ]
  },
  {
   "cell_type": "code",
   "execution_count": 23,
   "id": "5f43200e",
   "metadata": {},
   "outputs": [
    {
     "data": {
      "text/plain": [
       "['apple', 'ball', 'cat', 'dog']"
      ]
     },
     "execution_count": 23,
     "metadata": {},
     "output_type": "execute_result"
    }
   ],
   "source": [
    "a='apple.ball.cat.dog'\n",
    "a.split('.')"
   ]
  },
  {
   "cell_type": "code",
   "execution_count": 24,
   "id": "421dfefd",
   "metadata": {},
   "outputs": [
    {
     "data": {
      "text/plain": [
       "['apple', 'ball', 'cat', 'dog']"
      ]
     },
     "execution_count": 24,
     "metadata": {},
     "output_type": "execute_result"
    }
   ],
   "source": [
    "a='apple=ball=cat=dog'\n",
    "a.split('=')"
   ]
  },
  {
   "cell_type": "code",
   "execution_count": null,
   "id": "4e023167",
   "metadata": {},
   "outputs": [],
   "source": []
  },
  {
   "cell_type": "code",
   "execution_count": 32,
   "id": "f8d29f8c",
   "metadata": {},
   "outputs": [
    {
     "name": "stdout",
     "output_type": "stream",
     "text": [
      "1.Hello World\n",
      "2.Hell\n"
     ]
    }
   ],
   "source": [
    "b=open('data.txt','r')\n",
    "print(b.read(20))\n",
    "b.close()"
   ]
  },
  {
   "cell_type": "code",
   "execution_count": null,
   "id": "4d8f0bcf",
   "metadata": {},
   "outputs": [],
   "source": [
    "#write--over write\n",
    "#append---add"
   ]
  },
  {
   "cell_type": "code",
   "execution_count": 33,
   "id": "8fd0e13e",
   "metadata": {},
   "outputs": [],
   "source": [
    "b=open('datas.txt','w')\n",
    "b.write('hello world i am python')\n",
    "b.close()\n"
   ]
  },
  {
   "cell_type": "code",
   "execution_count": 37,
   "id": "72c4b7aa",
   "metadata": {},
   "outputs": [
    {
     "name": "stdout",
     "output_type": "stream",
     "text": [
      "enter n 2\n",
      "enter name ram\n",
      "enter age 12\n",
      "enter name hari\n",
      "enter age 23\n",
      "name = ram   age = 12\n",
      "name = hari   age = 23\n",
      "\n"
     ]
    }
   ],
   "source": [
    "s=str()\n",
    "n=int(input(\"enter n \"))\n",
    "for i in range(n):\n",
    "    name=input(\"enter name \")\n",
    "    age=int(input(\"enter age \"))\n",
    "    info=f\"name = {name}   age = {age}\\n\"\n",
    "    s=s+info\n",
    "print(s)\n",
    "\n",
    "b=open('datas.txt','w')\n",
    "b.write(s)\n",
    "b.close()\n"
   ]
  },
  {
   "cell_type": "code",
   "execution_count": 38,
   "id": "c49d09b9",
   "metadata": {},
   "outputs": [
    {
     "data": {
      "text/plain": [
       "'C:\\\\Users\\\\Arjun\\\\Untitled Folder'"
      ]
     },
     "execution_count": 38,
     "metadata": {},
     "output_type": "execute_result"
    }
   ],
   "source": [
    "pwd\n"
   ]
  },
  {
   "cell_type": "code",
   "execution_count": 39,
   "id": "feda1307",
   "metadata": {},
   "outputs": [],
   "source": [
    "#csv---comma separated values"
   ]
  },
  {
   "cell_type": "code",
   "execution_count": 40,
   "id": "c85801c8",
   "metadata": {},
   "outputs": [
    {
     "name": "stdout",
     "output_type": "stream",
     "text": [
      "enter n 2\n",
      "enter name ram\n",
      "enter age 23\n",
      "enter name hari\n",
      "enter age 32\n",
      "ram,23\n",
      "hari,32\n",
      "\n"
     ]
    }
   ],
   "source": [
    "s=str()\n",
    "n=int(input(\"enter n \"))\n",
    "for i in range(n):\n",
    "    name=input(\"enter name \")\n",
    "    age=int(input(\"enter age \"))\n",
    "    info=f\"{name},{age}\\n\"\n",
    "    s=s+info\n",
    "print(s)\n",
    "\n",
    "b=open('datas.csv','w')\n",
    "b.write(s)\n",
    "b.close()\n"
   ]
  },
  {
   "cell_type": "code",
   "execution_count": 42,
   "id": "5ee97ffc",
   "metadata": {},
   "outputs": [
    {
     "name": "stdout",
     "output_type": "stream",
     "text": [
      "enter n 2\n",
      "enter name ram\n",
      "enter age 23\n",
      "enter name hari\n",
      "enter age 45\n",
      "ram,23\n",
      "hari,45\n",
      "\n"
     ]
    }
   ],
   "source": [
    "s=str()\n",
    "n=int(input(\"enter n \"))\n",
    "for i in range(n):\n",
    "    name=input(\"enter name \")\n",
    "    age=int(input(\"enter age \"))\n",
    "    info=f\"{name},{age}\\n\"\n",
    "    s=s+info\n",
    "print(s)\n",
    "\n",
    "b=open('datas.csv','w')\n",
    "b.write('name,age\\n')\n",
    "b.write(s)\n",
    "b.close()\n"
   ]
  },
  {
   "cell_type": "code",
   "execution_count": 43,
   "id": "f6b46862",
   "metadata": {},
   "outputs": [],
   "source": [
    "#pandas"
   ]
  },
  {
   "cell_type": "code",
   "execution_count": 46,
   "id": "70602dc4",
   "metadata": {},
   "outputs": [
    {
     "data": {
      "text/html": [
       "<div>\n",
       "<style scoped>\n",
       "    .dataframe tbody tr th:only-of-type {\n",
       "        vertical-align: middle;\n",
       "    }\n",
       "\n",
       "    .dataframe tbody tr th {\n",
       "        vertical-align: top;\n",
       "    }\n",
       "\n",
       "    .dataframe thead th {\n",
       "        text-align: right;\n",
       "    }\n",
       "</style>\n",
       "<table border=\"1\" class=\"dataframe\">\n",
       "  <thead>\n",
       "    <tr style=\"text-align: right;\">\n",
       "      <th></th>\n",
       "      <th>name</th>\n",
       "      <th>age</th>\n",
       "    </tr>\n",
       "  </thead>\n",
       "  <tbody>\n",
       "    <tr>\n",
       "      <th>0</th>\n",
       "      <td>ram</td>\n",
       "      <td>23</td>\n",
       "    </tr>\n",
       "    <tr>\n",
       "      <th>1</th>\n",
       "      <td>hari</td>\n",
       "      <td>45</td>\n",
       "    </tr>\n",
       "  </tbody>\n",
       "</table>\n",
       "</div>"
      ],
      "text/plain": [
       "   name  age\n",
       "0   ram   23\n",
       "1  hari   45"
      ]
     },
     "execution_count": 46,
     "metadata": {},
     "output_type": "execute_result"
    }
   ],
   "source": [
    "\n",
    "import pandas as pd\n",
    "df=pd.read_csv('datas.csv')\n",
    "df"
   ]
  },
  {
   "cell_type": "code",
   "execution_count": null,
   "id": "6b5e4414",
   "metadata": {},
   "outputs": [],
   "source": [
    "#billing"
   ]
  }
 ],
 "metadata": {
  "kernelspec": {
   "display_name": "Python 3 (ipykernel)",
   "language": "python",
   "name": "python3"
  },
  "language_info": {
   "codemirror_mode": {
    "name": "ipython",
    "version": 3
   },
   "file_extension": ".py",
   "mimetype": "text/x-python",
   "name": "python",
   "nbconvert_exporter": "python",
   "pygments_lexer": "ipython3",
   "version": "3.9.7"
  }
 },
 "nbformat": 4,
 "nbformat_minor": 5
}
