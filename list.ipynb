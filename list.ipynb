{
 "cells": [
  {
   "cell_type": "code",
   "execution_count": 1,
   "id": "aef9902c",
   "metadata": {},
   "outputs": [],
   "source": [
    "#pyhton collection \n",
    "#list\n",
    "#tuple\n",
    "#dictionary\n",
    "#set"
   ]
  },
  {
   "cell_type": "code",
   "execution_count": 2,
   "id": "e7b36099",
   "metadata": {},
   "outputs": [],
   "source": [
    "#list \n",
    "# indexed\n",
    "# ordered\n",
    "# multiple and duplicate data\n",
    "# mutable\n"
   ]
  },
  {
   "cell_type": "code",
   "execution_count": 10,
   "id": "1fd2d55f",
   "metadata": {},
   "outputs": [
    {
     "name": "stdout",
     "output_type": "stream",
     "text": [
      "4\n",
      "['apple', 'ball', 'cat', 'dog']\n",
      "<class 'list'>\n",
      "apple\n",
      "['apple', 'ball', 'cat', 'dog']\n",
      "['apple', 'cat']\n",
      "['apple', 'ball', 'cat', 'dog']\n",
      "['apple', 'ball', 'cat']\n",
      "['apple', 'ball', 'cat', 'dog']\n"
     ]
    }
   ],
   "source": [
    "#indexed\n",
    "a=['apple','ball','cat','dog']\n",
    "l=len(a)\n",
    "print(l)\n",
    "print(a)\n",
    "print(type(a))\n",
    "print(a[0])\n",
    "print(a[0:4])\n",
    "print(a[0:4:2])\n",
    "print(a[0:])\n",
    "print(a[0:3])\n",
    "print(a[0:10])\n"
   ]
  },
  {
   "cell_type": "code",
   "execution_count": 11,
   "id": "f87ceffb",
   "metadata": {},
   "outputs": [
    {
     "name": "stdout",
     "output_type": "stream",
     "text": [
      "[1, 2, 3, 4, 5, 'apple', 'ball', 'cat', 'dog', 'fish']\n"
     ]
    }
   ],
   "source": [
    "#ordered\n",
    "a=['apple','ball','cat','dog','fish']\n",
    "b=[1,2,3,4,5,]\n",
    "c=b+a\n",
    "print(c)"
   ]
  },
  {
   "cell_type": "code",
   "execution_count": 13,
   "id": "404d49d3",
   "metadata": {},
   "outputs": [
    {
     "name": "stdout",
     "output_type": "stream",
     "text": [
      "12\n"
     ]
    }
   ],
   "source": [
    "# multiple and duplicated data\n",
    "a=[1,2,3,4,5,'apple','ball','cat','dog','fish',1,2]\n",
    "l=len(a)\n",
    "print(l)"
   ]
  },
  {
   "cell_type": "code",
   "execution_count": 14,
   "id": "fcd99321",
   "metadata": {},
   "outputs": [
    {
     "name": "stdout",
     "output_type": "stream",
     "text": [
      "2\n"
     ]
    }
   ],
   "source": [
    "print(a[1])"
   ]
  },
  {
   "cell_type": "code",
   "execution_count": 15,
   "id": "35c237b1",
   "metadata": {},
   "outputs": [
    {
     "name": "stdout",
     "output_type": "stream",
     "text": [
      "['ant', 'ball', 'cat', 'dog', 'fish']\n"
     ]
    }
   ],
   "source": [
    "#mutable\n",
    "a=['apple','ball','cat','dog','fish']\n",
    "a[0]='ant'\n",
    "print(a)"
   ]
  },
  {
   "cell_type": "code",
   "execution_count": 17,
   "id": "99f7f020",
   "metadata": {},
   "outputs": [
    {
     "name": "stdout",
     "output_type": "stream",
     "text": [
      "enter n = 2\n",
      "enter x = 45\n",
      "enter x = 67\n",
      "[45, 67]\n"
     ]
    }
   ],
   "source": [
    "l=list()\n",
    "n=int(input('enter n = '))\n",
    "for i in range(n):\n",
    "    x=int(input('enter x = '))\n",
    "    l.append(x)\n",
    "print(l)"
   ]
  },
  {
   "cell_type": "code",
   "execution_count": 20,
   "id": "51e0d282",
   "metadata": {},
   "outputs": [
    {
     "name": "stdout",
     "output_type": "stream",
     "text": [
      "78\n",
      "23\n",
      "279\n",
      "[23, 23, 43, 45, 67, 78]\n"
     ]
    }
   ],
   "source": [
    "a=[45,67,23,78,43,23]\n",
    "print(max(a))\n",
    "print(min(a))\n",
    "print(sum(a))\n",
    "a.sort()#ascending order\n",
    "print(a)"
   ]
  },
  {
   "cell_type": "code",
   "execution_count": 21,
   "id": "4ec18fcb",
   "metadata": {},
   "outputs": [
    {
     "name": "stdout",
     "output_type": "stream",
     "text": [
      "['Xray', 'Zebra', 'apple', 'ball', 'cat', 'dog', 'fish']\n"
     ]
    }
   ],
   "source": [
    "a=['apple','ball','cat','dog','fish','Xray','Zebra']\n",
    "a.sort()#ascending order(first capital letters then samall)\n",
    "print(a)"
   ]
  },
  {
   "cell_type": "code",
   "execution_count": 22,
   "id": "df3b81f1",
   "metadata": {},
   "outputs": [
    {
     "name": "stdout",
     "output_type": "stream",
     "text": [
      "apple\n",
      "ball\n",
      "cat\n",
      "dog\n",
      "fish\n",
      "Xray\n",
      "Zebra\n"
     ]
    }
   ],
   "source": [
    "a=['apple','ball','cat','dog','fish','Xray','Zebra']\n",
    "for i in a:\n",
    "    print(i)"
   ]
  },
  {
   "cell_type": "code",
   "execution_count": 23,
   "id": "f4a62b69",
   "metadata": {},
   "outputs": [
    {
     "name": "stdout",
     "output_type": "stream",
     "text": [
      "yes\n",
      "1\n"
     ]
    }
   ],
   "source": [
    "a=['apple','ball','cat','dog','fish','Xray','Zebra']\n",
    "if 'apple' in a:\n",
    "    print(\"yes\")\n",
    "    print(a.count('apple'))"
   ]
  },
  {
   "cell_type": "code",
   "execution_count": 24,
   "id": "81828345",
   "metadata": {},
   "outputs": [],
   "source": [
    "# basic functions of list--- last ma data halna milcha\n",
    "# append()  insert()  extend()\n"
   ]
  },
  {
   "cell_type": "code",
   "execution_count": 26,
   "id": "8ce9481d",
   "metadata": {},
   "outputs": [
    {
     "name": "stdout",
     "output_type": "stream",
     "text": [
      "['apple']\n"
     ]
    }
   ],
   "source": [
    "a=[]\n",
    "a.append('apple')#mutable\n",
    "print(a)"
   ]
  },
  {
   "cell_type": "code",
   "execution_count": 29,
   "id": "18cda01b",
   "metadata": {},
   "outputs": [
    {
     "name": "stdout",
     "output_type": "stream",
     "text": [
      "['apple', 'egg', 'ball', 'cat', 'dog', 'fish', 'Xray', 'Zebra']\n"
     ]
    }
   ],
   "source": [
    "a=['apple','ball','cat','dog','fish','Xray','Zebra']\n",
    "a.insert(1,'egg')#mutable(updating a)\n",
    "print(a)"
   ]
  },
  {
   "cell_type": "code",
   "execution_count": 30,
   "id": "99a3275d",
   "metadata": {},
   "outputs": [
    {
     "name": "stdout",
     "output_type": "stream",
     "text": [
      "['apple', 'ball', 'cat', 'dog', 'fish', 'Xray', 'Zebra', 1, 2, 3, 4, 5, 6, 7]\n"
     ]
    }
   ],
   "source": [
    "a=['apple','ball','cat','dog','fish','Xray','Zebra']\n",
    "b=[1,2,3,4,5,6,7]\n",
    "a.extend(b)#mutable\n",
    "print(a)"
   ]
  },
  {
   "cell_type": "code",
   "execution_count": 31,
   "id": "1e4b9f25",
   "metadata": {},
   "outputs": [
    {
     "name": "stdout",
     "output_type": "stream",
     "text": [
      "['apple', 'ball', 'cat', 'dog', 'fish', 'Xray', 'Zebra', 'ant']\n"
     ]
    }
   ],
   "source": [
    "a=['apple','ball','cat','dog','fish','Xray','Zebra']\n",
    "a.append('ant')#mutable\n",
    "print(a)"
   ]
  },
  {
   "cell_type": "code",
   "execution_count": 33,
   "id": "7ddeb98d",
   "metadata": {},
   "outputs": [
    {
     "name": "stdout",
     "output_type": "stream",
     "text": [
      "['apple', 'ball', 'cat', 'dog', 'fish', 'Xray', 'Zebra', 'apple', 'ball', 'cat', 'dog', 'fish', 'Xray', 'Zebra']\n",
      "[1, 2, 3, 4, 5, 6, 7, 1, 2, 3, 4, 5, 6, 7]\n"
     ]
    }
   ],
   "source": [
    "a=['apple','ball','cat','dog','fish','Xray','Zebra']\n",
    "b=[1,2,3,4,5,6,7]\n",
    "print(a*2)\n",
    "print(b*2)"
   ]
  },
  {
   "cell_type": "code",
   "execution_count": 34,
   "id": "9ec7796b",
   "metadata": {},
   "outputs": [
    {
     "name": "stdout",
     "output_type": "stream",
     "text": [
      "['ball', 'cat', 'dog', 'fish', 'Xray', 'Zebra']\n"
     ]
    }
   ],
   "source": [
    "# to remove the value  remove() del pop()\n",
    "a=['apple','ball','cat','dog','fish','Xray','Zebra']\n",
    "a.remove('apple')#one value at a time---logical error ni aauna sakcha\n",
    "print(a)"
   ]
  },
  {
   "cell_type": "code",
   "execution_count": 35,
   "id": "9af84377",
   "metadata": {},
   "outputs": [
    {
     "name": "stdout",
     "output_type": "stream",
     "text": [
      "['ball', 'cat', 'dog', 'fish', 'Xray', 'Zebra']\n"
     ]
    }
   ],
   "source": [
    "a=['apple','ball','cat','dog','fish','Xray','Zebra']\n",
    "del a[0]\n",
    "print(a)"
   ]
  },
  {
   "cell_type": "code",
   "execution_count": 36,
   "id": "65af82c7",
   "metadata": {},
   "outputs": [
    {
     "name": "stdout",
     "output_type": "stream",
     "text": [
      "['dog', 'fish', 'Xray', 'Zebra']\n"
     ]
    }
   ],
   "source": [
    "a=['apple','ball','cat','dog','fish','Xray','Zebra']\n",
    "del a[0:3]# 3 is not included\n",
    "print(a)"
   ]
  },
  {
   "cell_type": "code",
   "execution_count": 37,
   "id": "c548dd62",
   "metadata": {},
   "outputs": [
    {
     "name": "stdout",
     "output_type": "stream",
     "text": [
      "['ball', 'dog', 'Xray']\n"
     ]
    }
   ],
   "source": [
    "a=['apple','ball','cat','dog','fish','Xray','Zebra']\n",
    "del a[0::2]\n",
    "print(a)"
   ]
  },
  {
   "cell_type": "code",
   "execution_count": 39,
   "id": "aa816c14",
   "metadata": {},
   "outputs": [
    {
     "name": "stdout",
     "output_type": "stream",
     "text": [
      "0\n"
     ]
    }
   ],
   "source": [
    "a=['apple','ball','cat','dog','fish','Xray','Zebra']\n",
    "b=a.index('apple')\n",
    "print(b)"
   ]
  },
  {
   "cell_type": "code",
   "execution_count": 40,
   "id": "e06b5cd0",
   "metadata": {},
   "outputs": [
    {
     "name": "stdout",
     "output_type": "stream",
     "text": [
      "['apple', 'ball', 'cat', 'dog', 'fish', 'apple', 'Xray', 'Zebra']\n"
     ]
    }
   ],
   "source": [
    "a=['apple','apple','ball','cat','dog','fish','apple','Xray','Zebra']\n",
    "a.remove('apple')#delects only one apple\n",
    "print(a)"
   ]
  },
  {
   "cell_type": "code",
   "execution_count": 43,
   "id": "df81463a",
   "metadata": {},
   "outputs": [
    {
     "name": "stdout",
     "output_type": "stream",
     "text": [
      "['ball', 'cat', 'dog', 'fish', 'apple', 'Xray', 'Zebra']\n"
     ]
    }
   ],
   "source": [
    "#logical error as not all apple is deleted\n",
    "a=['apple','apple','ball','cat','dog','fish','apple','Xray','Zebra']\n",
    "for i in a:\n",
    "    if i=='apple':\n",
    "        a.remove('apple')\n",
    "print(a)"
   ]
  },
  {
   "cell_type": "code",
   "execution_count": 44,
   "id": "b3457f41",
   "metadata": {},
   "outputs": [
    {
     "name": "stdout",
     "output_type": "stream",
     "text": [
      "['apple', 'ball', 'cat', 'dog', 'fish', 'apple', 'Xray', 'Zebra']\n"
     ]
    }
   ],
   "source": [
    "#logical error\n",
    "a=['apple','apple','ball','cat','dog','fish','apple','Xray','Zebra']\n",
    "l=a.count('apple')\n",
    "for i in range(l):\n",
    "    if a[i]=='apple':\n",
    "        a.remove(a[i])\n",
    "print(a)"
   ]
  },
  {
   "cell_type": "code",
   "execution_count": 46,
   "id": "98956bf2",
   "metadata": {},
   "outputs": [
    {
     "name": "stdout",
     "output_type": "stream",
     "text": [
      "['ball', 'cat', 'dog', 'fish', 'Xray', 'Zebra']\n"
     ]
    }
   ],
   "source": [
    "# filtering the list instead of removing multiple elements from the same list\n",
    "b=[]\n",
    "a=['apple','apple','ball','cat','dog','fish','apple','Xray','Zebra']\n",
    "for i in a:\n",
    "    if i!='apple':\n",
    "        b.append(i)\n",
    "print(b)"
   ]
  },
  {
   "cell_type": "code",
   "execution_count": 10,
   "id": "0d53d08b",
   "metadata": {},
   "outputs": [
    {
     "name": "stdout",
     "output_type": "stream",
     "text": [
      "['apple', 'apple', 'apple']\n",
      "0\n"
     ]
    }
   ],
   "source": [
    "# WAP to detect index of same value\n",
    "\n",
    "# wrong way\n",
    "b=[]\n",
    "a=['apple','apple','ball','cat','dog','fish','apple','Xray','Zebra']\n",
    "for i in a:\n",
    "    if i=='apple':\n",
    "        b.append(i)\n",
    "        \n",
    "print(b)\n",
    "c=b.index('apple')\n",
    "print(c)"
   ]
  },
  {
   "cell_type": "code",
   "execution_count": 4,
   "id": "2658769e",
   "metadata": {},
   "outputs": [
    {
     "name": "stdout",
     "output_type": "stream",
     "text": [
      "apple 0\n",
      "apple 1\n",
      "apple 8\n",
      "total number of apples =  3\n"
     ]
    }
   ],
   "source": [
    "#correct way\n",
    "a=['apple','apple','ball','cat','dog','fish','Xray','Zebra','apple']\n",
    "l=len(a)\n",
    "for i in range(l):\n",
    "    if a[i]=='apple':\n",
    "        print(a[i],i)\n",
    "print(\"total number of apples = \",a.count('apple'))\n",
    "    "
   ]
  },
  {
   "cell_type": "code",
   "execution_count": 6,
   "id": "a8dea334",
   "metadata": {},
   "outputs": [
    {
     "name": "stdout",
     "output_type": "stream",
     "text": [
      "3\n"
     ]
    }
   ],
   "source": [
    "#list inside list----listed list\n",
    "a=[[1,2,3],[4,5,6],[7,8,9]]\n",
    "print(len(a))"
   ]
  },
  {
   "cell_type": "code",
   "execution_count": 7,
   "id": "1c7d66bb",
   "metadata": {},
   "outputs": [
    {
     "name": "stdout",
     "output_type": "stream",
     "text": [
      "[7, 8, 9]\n"
     ]
    }
   ],
   "source": [
    "print(a[2])"
   ]
  },
  {
   "cell_type": "code",
   "execution_count": 9,
   "id": "d4dc35e3",
   "metadata": {},
   "outputs": [
    {
     "name": "stdout",
     "output_type": "stream",
     "text": [
      "[['ram', 2, 'ktm'], ['hari', 32, 'patan'], ['shyam', 21, 'bhaktapur']]\n"
     ]
    }
   ],
   "source": [
    "a=[['ram',2,'ktm'],\n",
    "   ['hari',32,'patan'],\n",
    "  ['shyam',21,'bhaktapur']]\n",
    "print(a)"
   ]
  },
  {
   "cell_type": "code",
   "execution_count": 10,
   "id": "b9a66e7c",
   "metadata": {},
   "outputs": [
    {
     "data": {
      "text/plain": [
       "'ktm'"
      ]
     },
     "execution_count": 10,
     "metadata": {},
     "output_type": "execute_result"
    }
   ],
   "source": [
    "a[0][2]"
   ]
  },
  {
   "cell_type": "code",
   "execution_count": 11,
   "id": "3861d30f",
   "metadata": {},
   "outputs": [
    {
     "data": {
      "text/plain": [
       "['shyam', 21, 'bhaktapur']"
      ]
     },
     "execution_count": 11,
     "metadata": {},
     "output_type": "execute_result"
    }
   ],
   "source": [
    "a[2]"
   ]
  },
  {
   "cell_type": "code",
   "execution_count": 15,
   "id": "354d3a12",
   "metadata": {},
   "outputs": [
    {
     "name": "stdout",
     "output_type": "stream",
     "text": [
      "enter name = ram\n",
      "['ram', 2, 'ktm']\n"
     ]
    }
   ],
   "source": [
    "name=input('enter name = ')\n",
    "for i in a:\n",
    "    if name in i:\n",
    "        print(i)"
   ]
  },
  {
   "cell_type": "code",
   "execution_count": 17,
   "id": "99f7bbf0",
   "metadata": {},
   "outputs": [
    {
     "name": "stdout",
     "output_type": "stream",
     "text": [
      "enter n = 2\n",
      "enter name = ram\n",
      "enter age = 22\n",
      "enter address = ktm\n",
      "enter name = shyam\n",
      "enter age = 32\n",
      "enter address = patan\n",
      "[['ram', 22, 'ktm'], ['shyam', 32, 'patan']]\n"
     ]
    }
   ],
   "source": [
    "l=list()\n",
    "n=int(input('enter n = '))\n",
    "for i in range(n):\n",
    "    name=input('enter name = ')\n",
    "    age=int(input('enter age = '))\n",
    "    add=input('enter address = ')\n",
    "    data=[name,age,add]\n",
    "    l.append(data)\n",
    "print(l)"
   ]
  },
  {
   "cell_type": "code",
   "execution_count": 18,
   "id": "ff90f2c6",
   "metadata": {},
   "outputs": [
    {
     "name": "stdout",
     "output_type": "stream",
     "text": [
      "enter n = 2\n",
      "enter name = ram\n",
      "enter age = 23\n",
      "enter address = ktm\n",
      "enter name = hari\n",
      "enter age = 32\n",
      "enter address = patan\n",
      "[['ram', 23, 'ktm'], ['hari', 32, 'patan']]\n"
     ]
    }
   ],
   "source": [
    "info=[]\n",
    "n=int(input('enter n = '))\n",
    "for i in range(n):\n",
    "    name=input('enter name = ')\n",
    "    age=int(input('enter age = '))\n",
    "    add=input('enter address = ')\n",
    "    data=[name,age,add]\n",
    "    info.append(data)\n",
    "print(info)"
   ]
  },
  {
   "cell_type": "code",
   "execution_count": 19,
   "id": "64fd5884",
   "metadata": {},
   "outputs": [
    {
     "name": "stdout",
     "output_type": "stream",
     "text": [
      "[['hari', 32, 'patan'], ['shyam', 21, 'bhaktapur']]\n"
     ]
    }
   ],
   "source": [
    "a=[['ram', 2, 'ktm'], ['hari', 32, 'patan'], ['shyam', 21, 'bhaktapur']]\n",
    "del a[0]\n",
    "print(a)"
   ]
  },
  {
   "cell_type": "code",
   "execution_count": 22,
   "id": "baf785bb",
   "metadata": {},
   "outputs": [
    {
     "name": "stdout",
     "output_type": "stream",
     "text": [
      "[['Sita', 2, 'ktm'], ['hari', 32, 'patan'], ['shyam', 21, 'bhaktapur']]\n"
     ]
    }
   ],
   "source": [
    "a=[['ram', 2, 'ktm'], ['hari', 32, 'patan'], ['shyam', 21, 'bhaktapur']]\n",
    "a[0][0]='Sita'\n",
    "print(a)"
   ]
  },
  {
   "cell_type": "code",
   "execution_count": 23,
   "id": "334cf750",
   "metadata": {},
   "outputs": [
    {
     "name": "stdout",
     "output_type": "stream",
     "text": [
      "[['ram', 2, 'ktm'], ['hari', 32, 'patan'], ['shyam', 21, 'bhaktapur'], ['sita', 25, 'ktm']]\n"
     ]
    }
   ],
   "source": [
    "a=[['ram', 2, 'ktm'], ['hari', 32, 'patan'], ['shyam', 21, 'bhaktapur']]\n",
    "a.append(['sita',25,'ktm'])\n",
    "print(a)\n"
   ]
  },
  {
   "cell_type": "code",
   "execution_count": 24,
   "id": "4b60c616",
   "metadata": {},
   "outputs": [
    {
     "name": "stdout",
     "output_type": "stream",
     "text": [
      "enter name = ram\n",
      "[['hari', 32, 'patan'], ['shyam', 21, 'bhaktapur']]\n"
     ]
    }
   ],
   "source": [
    "a=[['ram', 2, 'ktm'], ['hari', 32, 'patan'], ['shyam', 21, 'bhaktapur']]\n",
    "name=input('enter name = ')\n",
    "for i in a:\n",
    "    if name in i:\n",
    "        a.remove(i)\n",
    "print(a)"
   ]
  },
  {
   "cell_type": "code",
   "execution_count": 9,
   "id": "d4642cd6",
   "metadata": {},
   "outputs": [
    {
     "name": "stdout",
     "output_type": "stream",
     "text": [
      "enter n = 2\n",
      "enter values for the matirix\n",
      "\n",
      "1\n",
      "2\n",
      "3\n",
      "4\n",
      "1 2 \n",
      "3 4 \n"
     ]
    }
   ],
   "source": [
    "# WAP to create a matrix by taking input from the user row and column \n",
    "\n",
    "#only for same nuber of rows and column\n",
    "info=[]\n",
    "n=int(input('enter n = '))\n",
    "print('enter values for the matirix\\n')\n",
    "for i in range(n):\n",
    "    a=[]\n",
    "    for j in range(n):\n",
    "        a.append(int(input()))\n",
    "    info.append(a)\n",
    "for i in range(n):\n",
    "    for j in range(n):\n",
    "        print(info[i][j],end=' ')\n",
    "    print()\n",
    "\n",
    "        \n",
    "        \n"
   ]
  },
  {
   "cell_type": "code",
   "execution_count": 2,
   "id": "20a2a683",
   "metadata": {},
   "outputs": [],
   "source": [
    "# list comprihension and filters and lamda function----later bonus topic"
   ]
  },
  {
   "cell_type": "code",
   "execution_count": 1,
   "id": "ce24b3d7",
   "metadata": {},
   "outputs": [
    {
     "name": "stdout",
     "output_type": "stream",
     "text": [
      "Enter the number of rows:2\n",
      "Enter the number of columns:2\n",
      "Enter the values for matrix row wise\n",
      "\n",
      "1\n",
      "2\n",
      "3\n",
      "4\n",
      "1 2 \n",
      "3 4 \n"
     ]
    }
   ],
   "source": [
    "\n",
    "r = int(input(\"Enter the number of rows:\"))\n",
    "c = int(input(\"Enter the number of columns:\"))\n",
    "matrix = []\n",
    "print(\"Enter the values for matrix row wise\\n\")\n",
    "for i in range(r):          \n",
    "    a =[]\n",
    "    for j in range(c):      \n",
    "         a.append(int(input()))\n",
    "    matrix.append(a)\n",
    "for i in range(r):\n",
    "    for j in range(c):\n",
    "        print(matrix[i][j], end = \" \")\n",
    "    print()"
   ]
  },
  {
   "cell_type": "markdown",
   "id": "c0819932",
   "metadata": {},
   "source": [
    "##### "
   ]
  },
  {
   "cell_type": "code",
   "execution_count": 5,
   "id": "a577dec7",
   "metadata": {},
   "outputs": [
    {
     "name": "stdout",
     "output_type": "stream",
     "text": [
      "Enter the num of rows: 2\n",
      "Enter the number of col: 3\n",
      "enter value for new row \n",
      "123\n",
      "3\n",
      "4\n",
      "enter value for new row \n",
      "5\n",
      "6\n",
      "7\n",
      "\n",
      "Printing Matrix:\n",
      "\n",
      "123 3 4 \n",
      "5 6 7 \n"
     ]
    }
   ],
   "source": [
    "#WAP to create a matrix by taking user input \n",
    "row = int(input(\"Enter the num of rows: \"))\n",
    "col = int(input(\"Enter the number of col: \"))\n",
    "matrix = []\n",
    "for i in range(row):\n",
    "    value = []\n",
    "    print(\"enter value for new row \")\n",
    "    for j in range(col):\n",
    "        user_value = int(input())\n",
    "        value.append(user_value)\n",
    "    matrix.append(value)\n",
    "print(\"\\nPrinting Matrix:\\n\")\n",
    "for i in range(row):\n",
    "    for j in range(col):\n",
    "        print(matrix[i][j], end = \" \")\n",
    "    print()\n"
   ]
  },
  {
   "cell_type": "code",
   "execution_count": null,
   "id": "9fcf8e5d",
   "metadata": {},
   "outputs": [],
   "source": []
  }
 ],
 "metadata": {
  "kernelspec": {
   "display_name": "Python 3 (ipykernel)",
   "language": "python",
   "name": "python3"
  },
  "language_info": {
   "codemirror_mode": {
    "name": "ipython",
    "version": 3
   },
   "file_extension": ".py",
   "mimetype": "text/x-python",
   "name": "python",
   "nbconvert_exporter": "python",
   "pygments_lexer": "ipython3",
   "version": "3.9.7"
  }
 },
 "nbformat": 4,
 "nbformat_minor": 5
}
