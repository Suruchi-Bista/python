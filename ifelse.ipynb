{
 "cells": [
  {
   "cell_type": "code",
   "execution_count": 1,
   "id": "22e8dc3a",
   "metadata": {},
   "outputs": [],
   "source": [
    "# if <condition>:\n",
    "#    <operation>\n",
    "# elif <condition>:\n",
    "#    <operation>\n",
    "# else:\n",
    "#    <operation>\n",
    "\n"
   ]
  },
  {
   "cell_type": "code",
   "execution_count": 2,
   "id": "39e1e492",
   "metadata": {},
   "outputs": [
    {
     "name": "stdout",
     "output_type": "stream",
     "text": [
      "Hello world\n"
     ]
    }
   ],
   "source": [
    "if True:\n",
    "    print(\"Hello world\")"
   ]
  },
  {
   "cell_type": "code",
   "execution_count": 3,
   "id": "db6c0c88",
   "metadata": {},
   "outputs": [],
   "source": [
    "# < > <= >= != =="
   ]
  },
  {
   "cell_type": "code",
   "execution_count": 7,
   "id": "20134b13",
   "metadata": {},
   "outputs": [
    {
     "name": "stdout",
     "output_type": "stream",
     "text": [
      "enter x 10\n",
      "Even\n"
     ]
    }
   ],
   "source": [
    "x=int(input(\"enter x \"))\n",
    "if x%2==0:\n",
    "    print(\"Even\")\n",
    "else:\n",
    "    print(\"Odd\")\n",
    "    \n",
    "        "
   ]
  },
  {
   "cell_type": "code",
   "execution_count": 5,
   "id": "2f3824bd",
   "metadata": {},
   "outputs": [
    {
     "name": "stdout",
     "output_type": "stream",
     "text": [
      "True\n"
     ]
    }
   ],
   "source": [
    "print(10<11)"
   ]
  },
  {
   "cell_type": "code",
   "execution_count": 6,
   "id": "0239ada5",
   "metadata": {},
   "outputs": [
    {
     "data": {
      "text/plain": [
       "True"
      ]
     },
     "execution_count": 6,
     "metadata": {},
     "output_type": "execute_result"
    }
   ],
   "source": [
    "10%2==0"
   ]
  },
  {
   "cell_type": "code",
   "execution_count": 8,
   "id": "83e8ec82",
   "metadata": {},
   "outputs": [
    {
     "name": "stdout",
     "output_type": "stream",
     "text": [
      "enter x 10\n",
      "enter y 10\n",
      "they're equal\n"
     ]
    }
   ],
   "source": [
    "x=int(input(\"enter x \"))\n",
    "y=int(input(\"enter y \"))\n",
    "if x>y:\n",
    "    print(x,\" is greater\")\n",
    "elif y>x:\n",
    "    print(y,\" is greater\")\n",
    "else:\n",
    "    print(\"they're equal\")\n",
    "    \n"
   ]
  },
  {
   "cell_type": "code",
   "execution_count": 15,
   "id": "c0de4317",
   "metadata": {},
   "outputs": [
    {
     "name": "stdout",
     "output_type": "stream",
     "text": [
      "enter a= 1\n",
      "enter b= 0\n",
      "enter operator +,-,*,/= /\n",
      "value of b cannot be 0\n"
     ]
    }
   ],
   "source": [
    "a=int(input(\"enter a= \"))\n",
    "b=int(input(\"enter b= \"))\n",
    "o=input(\"enter operator +,-,*,/= \")\n",
    "if o==\"+\":\n",
    "    print(a+b)\n",
    "elif o==\"-\" :\n",
    "    print(a-b)\n",
    "elif o==\"*\" :\n",
    "    print(a*b)\n",
    "elif (o==\"/\") and (b!=0):\n",
    "    print(a/b)\n",
    "elif (o==\"/\") and (b==0):\n",
    "    print(\"value of b cannot be 0\")\n",
    "else:\n",
    "    print(\"invalid operator\")\n",
    "  \n"
   ]
  },
  {
   "cell_type": "code",
   "execution_count": 13,
   "id": "5e9505f0",
   "metadata": {},
   "outputs": [
    {
     "name": "stdout",
     "output_type": "stream",
     "text": [
      "False\n",
      "True\n"
     ]
    }
   ],
   "source": [
    "# and &\n",
    "print (True and False)\n",
    "#1*0\n",
    "# or |\n",
    "print (True or False)\n",
    "#1+0"
   ]
  },
  {
   "cell_type": "code",
   "execution_count": 18,
   "id": "c06e5534",
   "metadata": {},
   "outputs": [
    {
     "name": "stdout",
     "output_type": "stream",
     "text": [
      "enter percentage =60\n",
      "the grade is A\n"
     ]
    }
   ],
   "source": [
    "p=float(input(\"enter percentage =\"))\n",
    "if p>60 or p==60:\n",
    "    print(\"the grade is A\")\n",
    "else:\n",
    "    print(\"fail\")"
   ]
  },
  {
   "cell_type": "code",
   "execution_count": null,
   "id": "b5779971",
   "metadata": {},
   "outputs": [],
   "source": [
    "# nested if\n",
    "# if <condition>:\n",
    "#    if <condition>:\n",
    "#       <operation>\n",
    "#    elif <condition>:\n",
    "#         <operation>\n",
    "#    else:\n",
    "#        <operation>\n",
    "# else:\n",
    "#    <operation>\n"
   ]
  },
  {
   "cell_type": "code",
   "execution_count": null,
   "id": "a6449413",
   "metadata": {},
   "outputs": [],
   "source": [
    "a=int(input(\"enter a = \"))\n",
    "if a>0:\n",
    "    if x%2==0:\n",
    "        print(\"Positive and even number\")\n",
    "    else:\n",
    "        print(\"Positive and odd number\")\n",
    "else:\n",
    "    print(\"the number is a neagtive number\")"
   ]
  },
  {
   "cell_type": "code",
   "execution_count": 1,
   "id": "2b8e224d",
   "metadata": {},
   "outputs": [
    {
     "name": "stdout",
     "output_type": "stream",
     "text": [
      "enter a= 2\n",
      "enter b= 0\n",
      "enter operator +,-,*,/= /\n",
      "value of b cannot be 0\n"
     ]
    }
   ],
   "source": [
    "a=int(input(\"enter a= \"))\n",
    "b=int(input(\"enter b= \"))\n",
    "o=input(\"enter operator +,-,*,/= \")\n",
    "if o==\"+\":\n",
    "    print(a+b)\n",
    "elif o==\"-\" :\n",
    "    print(a-b)\n",
    "elif o==\"*\" :\n",
    "    print(a*b)\n",
    "elif (o==\"/\"): \n",
    "    if (b!=0):\n",
    "        print(a/b)\n",
    "    else:\n",
    "        print(\"value of b cannot be 0\")\n",
    "else:\n",
    "    print(\"invalid operator\")"
   ]
  },
  {
   "cell_type": "code",
   "execution_count": null,
   "id": "ee8a2567",
   "metadata": {},
   "outputs": [],
   "source": []
  },
  {
   "cell_type": "code",
   "execution_count": null,
   "id": "da685e9a",
   "metadata": {},
   "outputs": [],
   "source": []
  }
 ],
 "metadata": {
  "kernelspec": {
   "display_name": "Python 3 (ipykernel)",
   "language": "python",
   "name": "python3"
  },
  "language_info": {
   "codemirror_mode": {
    "name": "ipython",
    "version": 3
   },
   "file_extension": ".py",
   "mimetype": "text/x-python",
   "name": "python",
   "nbconvert_exporter": "python",
   "pygments_lexer": "ipython3",
   "version": "3.9.7"
  }
 },
 "nbformat": 4,
 "nbformat_minor": 5
}
